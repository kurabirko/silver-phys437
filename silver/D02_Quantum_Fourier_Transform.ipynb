{
 "cells": [
  {
   "cell_type": "markdown",
   "metadata": {},
   "source": [
    "<table  align=\"left\" width=\"100%\"> <tr>\n",
    "        <td  style=\"background-color:#ffffff;\"><a href=\"https://qsoftware.lu.lv/index.php/qworld/\" target=\"_blank\"><img src=\"../images/qworld.jpg\" width=\"35%\" align=\"left\"></a></td>\n",
    "        <td  align=\"right\" style=\"background-color:#ffffff;vertical-align:bottom;horizontal-align:right\">\n",
    "            prepared by Özlem Salehi (<a href=\"http://qworld.lu.lv/index.php/qturkey/\" target=\"_blank\">QTurkey</a>)\n",
    "        </td>        \n",
    "</tr></table>"
   ]
  },
  {
   "cell_type": "markdown",
   "metadata": {},
   "source": [
    "<table width=\"100%\"><tr><td style=\"color:#bbbbbb;background-color:#ffffff;font-size:11px;font-style:italic;text-align:right;\">This cell contains some macros. If there is a problem with displaying mathematical formulas, please run this cell to load these macros. </td></tr></table>\n",
    "$ \\newcommand{\\bra}[1]{\\langle #1|} $\n",
    "$ \\newcommand{\\ket}[1]{|#1\\rangle} $\n",
    "$ \\newcommand{\\braket}[2]{\\langle #1|#2\\rangle} $\n",
    "$ \\newcommand{\\dot}[2]{ #1 \\cdot #2} $\n",
    "$ \\newcommand{\\biginner}[2]{\\left\\langle #1,#2\\right\\rangle} $\n",
    "$ \\newcommand{\\mymatrix}[2]{\\left( \\begin{array}{#1} #2\\end{array} \\right)} $\n",
    "$ \\newcommand{\\myvector}[1]{\\mymatrix{c}{#1}} $\n",
    "$ \\newcommand{\\myrvector}[1]{\\mymatrix{r}{#1}} $\n",
    "$ \\newcommand{\\mypar}[1]{\\left( #1 \\right)} $\n",
    "$ \\newcommand{\\mybigpar}[1]{ \\Big( #1 \\Big)} $\n",
    "$ \\newcommand{\\sqrttwo}{\\frac{1}{\\sqrt{2}}} $\n",
    "$ \\newcommand{\\dsqrttwo}{\\dfrac{1}{\\sqrt{2}}} $\n",
    "$ \\newcommand{\\onehalf}{\\frac{1}{2}} $\n",
    "$ \\newcommand{\\donehalf}{\\dfrac{1}{2}} $\n",
    "$ \\newcommand{\\hadamard}{ \\mymatrix{rr}{ \\sqrttwo & \\sqrttwo \\\\ \\sqrttwo & -\\sqrttwo }} $\n",
    "$ \\newcommand{\\vzero}{\\myvector{1\\\\0}} $\n",
    "$ \\newcommand{\\vone}{\\myvector{0\\\\1}} $\n",
    "$ \\newcommand{\\stateplus}{\\myvector{ \\sqrttwo \\\\  \\sqrttwo } } $\n",
    "$ \\newcommand{\\stateminus}{ \\myrvector{ \\sqrttwo \\\\ -\\sqrttwo } } $\n",
    "$ \\newcommand{\\myarray}[2]{ \\begin{array}{#1}#2\\end{array}} $\n",
    "$ \\newcommand{\\X}{ \\mymatrix{cc}{0 & 1 \\\\ 1 & 0}  } $\n",
    "$ \\newcommand{\\Z}{ \\mymatrix{rr}{1 & 0 \\\\ 0 & -1}  } $\n",
    "$ \\newcommand{\\Htwo}{ \\mymatrix{rrrr}{ \\frac{1}{2} & \\frac{1}{2} & \\frac{1}{2} & \\frac{1}{2} \\\\ \\frac{1}{2} & -\\frac{1}{2} & \\frac{1}{2} & -\\frac{1}{2} \\\\ \\frac{1}{2} & \\frac{1}{2} & -\\frac{1}{2} & -\\frac{1}{2} \\\\ \\frac{1}{2} & -\\frac{1}{2} & -\\frac{1}{2} & \\frac{1}{2} } } $\n",
    "$ \\newcommand{\\CNOT}{ \\mymatrix{cccc}{1 & 0 & 0 & 0 \\\\ 0 & 1 & 0 & 0 \\\\ 0 & 0 & 0 & 1 \\\\ 0 & 0 & 1 & 0} } $\n",
    "$ \\newcommand{\\norm}[1]{ \\left\\lVert #1 \\right\\rVert } $\n",
    "$ \\newcommand{\\pstate}[1]{ \\lceil \\mspace{-1mu} #1 \\mspace{-1.5mu} \\rfloor } $"
   ]
  },
  {
   "cell_type": "markdown",
   "metadata": {},
   "source": [
    "<h1> Quantum Fourier Transform </h1>"
   ]
  },
  {
   "cell_type": "markdown",
   "metadata": {},
   "source": [
    "What makes Fourier Transform special is that it can be computed faster on a quantum computer than on a classical computer. In this notebook, we will learn about the quantum analogue of Discrete Fourier Transform. "
   ]
  },
  {
   "cell_type": "markdown",
   "metadata": {},
   "source": [
    "Let's recall the definition for $DFT$. $DFT$ of the vector $x=\\myvector{x_0~x_1\\dots~x_{N-1}}^T$ is the complex vector $y=\\myvector{y_0~y_1\\dots y_{N-1}}^T$ where\n",
    "\n",
    "\n",
    "$$\n",
    "y_k=\\frac{1}{\\sqrt{N}} \\sum_{j=0}^{N-1}e^{\\frac{2\\pi i j k }{N}}x_j.\n",
    "$$"
   ]
  },
  {
   "cell_type": "markdown",
   "metadata": {},
   "source": [
    "Now suppose that we have an $N=2^n$-dimensional quantum state vector $x=\\myvector{x_0~x_1\\dots~x_{N-1}}^T$ representing the state\n",
    "$$\n",
    "\\ket{\\psi} = \\sum_{j=0}^{N-1} x_j \\ket{j}.\n",
    "$$"
   ]
  },
  {
   "cell_type": "markdown",
   "metadata": {},
   "source": [
    "Quantum Fourier Transform $QFT$ of state $\\ket{\\psi}$ is given by\n",
    "$$\n",
    "\\ket{\\phi}=\\sum_{k=0}^{N-1}y_k \\ket{k} = \\frac{1}{\\sqrt{N}} \\sum_{k=0}^{N-1} \\sum_{j=0}^{N-1}e^{\\frac{2\\pi i j k }{N}}x_j \\ket{k},\n",
    "$$\n",
    "where $y_k$ is defined as above for $k=0,\\dots,N-1$."
   ]
  },
  {
   "cell_type": "markdown",
   "metadata": {},
   "source": [
    "Hence for a basis state $\\ket{j}$ represented by the vector $\\myvector{x_0~x_1\\dots~x_{N-1}}^T$ where $x_j=1$ and the rest of the entries are 0, its $QFT$ is given by \n",
    "\n",
    "$$\n",
    " \\frac{1}{\\sqrt{N}} \\sum_{k=0}^{N-1}e^{\\frac{2\\pi i j k }{N}} \\ket{k}.\n",
    "$$"
   ]
  },
  {
   "cell_type": "markdown",
   "metadata": {},
   "source": [
    "$e^{\\frac{2\\pi i}{N}}$ is often denoted by $\\omega$. The above expression can be equivalently expressed as\n",
    "$$\n",
    " \\frac{1}{\\sqrt{N}} \\sum_{k=0}^{N-1}{\\omega^{ j k} } \\ket{k}.\n",
    "$$\n"
   ]
  },
  {
   "cell_type": "markdown",
   "metadata": {},
   "source": [
    "<h3>Task 1 (on paper)</h3>\n",
    "\n",
    "Apply $QFT$ to the basis state $\\ket{10}$ and find the new quantum state."
   ]
  },
  {
   "cell_type": "markdown",
   "metadata": {},
   "source": [
    "<a href=\"D02_Quantum_Fourier_Transform_Solutions.ipynb#task1\">click for our solution</a>"
   ]
  },
  {
   "cell_type": "markdown",
   "metadata": {},
   "source": [
    "<h3>Task 2 (on paper)</h3>\n",
    "\n",
    "Apply $QFT$ to the state $ \\ket \\psi=\\frac{1}{\\sqrt{2}} \\ket {01}+\\frac{1}{\\sqrt{2}} \\ket {10} $. "
   ]
  },
  {
   "cell_type": "markdown",
   "metadata": {},
   "source": [
    "<a href=\"D02_Quantum_Fourier_Transform_Solutions.ipynb#task2\">click for our solution</a>"
   ]
  },
  {
   "cell_type": "markdown",
   "metadata": {},
   "source": [
    "<h3>Task 3 (on paper)</h3>\n",
    "\n",
    "Apply $QFT$ to the quantum state $\\ket{\\psi}=\\alpha \\ket{0} + \\beta \\ket{1}$ and find the new quantum state. Conclude that applying 1 qubit $QFT$ is equivalent to applying Hadamard gate."
   ]
  },
  {
   "cell_type": "markdown",
   "metadata": {},
   "source": [
    "<a href=\"D02_Quantum_Fourier_Transform_Solutions.ipynb#task3\">click for our solution</a>"
   ]
  },
  {
   "cell_type": "markdown",
   "metadata": {},
   "source": [
    "<b>Remark:</b> Note that two vectors that differ by a relative phase can not be distinguished when measured. For instance the vectors $\\frac{1}{2} \\myvector{1 \\\\ -i \\\\ -1 \\\\ i}$ and $\\frac{1}{2} \\myvector{1 \\\\ -1 \\\\ 1 \\\\ -1}$ are not distinguishable. But when $QFT$ is applied, then we obtain the vectors $ \\myvector{0 \\\\ 1 \\\\ 0 \\\\ 0}$ and $ \\myvector{ 0\\\\ 0 \\\\ 1 \\\\ 0}$ respectively and now the two vectors are distinguishable. "
   ]
  },
  {
   "cell_type": "markdown",
   "metadata": {},
   "source": [
    "<hr>"
   ]
  },
  {
   "cell_type": "markdown",
   "metadata": {},
   "source": [
    "<h2>QFT Operator</h2>"
   ]
  },
  {
   "cell_type": "markdown",
   "metadata": {},
   "source": [
    "Let's try to find out the matrix corresponding to $QFT$. Given $x$, the entries of the vector $y$ corresponding to $QFT$ of the vector $x$ is given by\n",
    "\n",
    "$$\n",
    "y_k=\\frac{1}{\\sqrt{N}} \\sum_{j=0}^{N-1}e^{\\frac{2\\pi i j k }{N}}x_j = \\frac{1}{\\sqrt{N}} \\sum_{j=0}^{N-1}\\omega^{j k}x_j .\n",
    "$$"
   ]
  },
  {
   "cell_type": "markdown",
   "metadata": {},
   "source": [
    "Hence, we can equivalently write:\n",
    "\n",
    "\\begin{align*}\n",
    "y_0 &= \\frac{1}{\\sqrt{N}} \\left (x_0 + x_1 + x_2 + \\cdots + x_{N-1}  \\right ) \\\\\n",
    "y_1 &= \\frac{1}{\\sqrt{N}} \\left (x_0 + x_1\\omega  + x_2 \\omega^2+ \\cdots + x_{N-1} \\omega^{N-1}  \\right )\\\\\n",
    "y_2 &= \\frac{1}{\\sqrt{N}} \\left (x_0 + x_1\\omega^2  + x_2 \\omega^4+ \\cdots + x_{N-1} \\omega^{2N-2}  \\right )\\\\\n",
    "\\vdots \\\\\n",
    "y_{N-1} &= \\frac{1}{\\sqrt{N}} \\left (x_0 + x_1\\omega^{N-1}  + x_2 \\omega^{2N-2}+ \\cdots + x_{N-1} \\omega^{(N-1)(N-1)}  \\right ).\n",
    "\\end{align*}"
   ]
  },
  {
   "cell_type": "markdown",
   "metadata": {},
   "source": [
    "From above, the matrix representation can be given by the following matrix.\n",
    "\n",
    "$$ \\frac{1}{\\sqrt{N}} \\mymatrix{rrrrrr}{1 & 1 & 1 &1  & \\cdots & 1\\\\ \n",
    "                   1 & \\omega & \\omega^2 & \\omega^3 & \\cdots& \\omega^{N-1} \\\\ \n",
    "                   1 & \\omega^2 &\\omega^4 & \\omega^6  & \\cdots& \\omega^{2N-2} \\\\ \n",
    "                  1 & \\omega^3 & \\omega^6 & \\omega^9 & \\cdots& \\omega^{3N-3} \\\\\n",
    "                  \\vdots &  \\vdots &  \\vdots &  \\vdots &  \\vdots &  \\vdots \\\\\n",
    "                    1 & \\omega^{N-1} & \\omega^{2N-2} & \\omega^{3N-3} & \\cdots& \\omega^{(N-1)(N-1)} \\\\\n",
    "                    }  $$\n",
    " "
   ]
  },
  {
   "cell_type": "markdown",
   "metadata": {},
   "source": [
    "<h4> Observation</h4>"
   ]
  },
  {
   "cell_type": "markdown",
   "metadata": {},
   "source": [
    "Let $\\ket{j}$ be a basis state where $j=0,\\dots N-1$. Then after applying $QFT$, the vector that is obtained is exactly the $j+1$'st column of the $QFT$ opreator. "
   ]
  },
  {
   "cell_type": "markdown",
   "metadata": {},
   "source": [
    "<h3>Task 4 (on paper)</h3>\n",
    "\n",
    "Apply $QFT$ to the basis state $\\ket{10}$ using the matrix representation and find the new quantum state."
   ]
  },
  {
   "cell_type": "markdown",
   "metadata": {},
   "source": [
    "<a href=\"D02_Quantum_Fourier_Transform_Solutions.ipynb#task4\">click for our solution</a>"
   ]
  },
  {
   "cell_type": "markdown",
   "metadata": {},
   "source": [
    "<hr>"
   ]
  },
  {
   "cell_type": "markdown",
   "metadata": {},
   "source": [
    "<h2>Properties of QFT (Optional) </h2> \n",
    "\n",
    "<ul>\n",
    "<li> $QFT$ is unitary: You can check this from the matrix corresponding to $QFT$. </li>\n",
    "    <li> Linear shift: Linear shift of a state vector causes relative phase shift of its $QFT$. The converse is also true. </li>\n",
    " </ul> "
   ]
  },
  {
   "cell_type": "markdown",
   "metadata": {},
   "source": [
    "  If  $QFT$ $\\myvector{\\alpha_0 \\\\ \\alpha_1 \\\\ \\vdots \\\\ \\alpha_{N-1} } = \\myvector{\\beta_0 \\\\ \\beta_1 \\\\ \\vdots \\\\ \\beta_{N-1}}$, then $QFT$ $\\myvector{\\alpha_{N-1} \\\\ \\alpha_0 \\\\ \\vdots \\\\ \\alpha_{N-2} } = \\myvector{\\beta_0 \\\\ \\omega \\beta_1 \\\\ \\vdots \\\\ \\omega^{N-1}\\beta_{N-1}}$ and \n",
    "      $QFT$  $\\myvector{\\alpha_0 \\\\ \\omega  \\alpha_1 \\\\ \\vdots \\\\ \\omega^{N-1}\\alpha_{N-1} } = \\myvector{\\beta_1 \\\\ \\beta_2 \\\\ \\vdots \\\\ \\beta_{0}}$."
   ]
  },
  {
   "cell_type": "markdown",
   "metadata": {},
   "source": [
    "<h3>Task 5 (on paper)</h3>\n",
    "\n",
    "What is the quantum state obtained after applying $QFT$ to the state $\\ket{11}$? Find using Task 4 and the linear shift property. "
   ]
  },
  {
   "cell_type": "markdown",
   "metadata": {},
   "source": [
    "<a href=\"D02_Quantum_Fourier_Transform_Solutions.ipynb#task5\">click for our solution</a>"
   ]
  },
  {
   "cell_type": "markdown",
   "metadata": {},
   "source": [
    "<hr>"
   ]
  },
  {
   "cell_type": "markdown",
   "metadata": {},
   "source": [
    "<h2> Circuit implementation for $QFT$ </h2>"
   ]
  },
  {
   "cell_type": "markdown",
   "metadata": {},
   "source": [
    "Recall that after applying $QFT$ to the state $\\ket{\\psi}=\\alpha\\ket{0} + \\beta \\ket{1}$, we get  $\\frac{\\alpha+\\beta}{\\sqrt{2}} \\ket{0} + \\frac{\\alpha-\\beta}{\\sqrt{2}} \\ket{1}$, which is the state obtained after applying Hadamard to the state $\\ket{\\psi}$. Hence, the effect of applying $QFT$ to a single qubit is equivalent to applying Hadamard."
   ]
  },
  {
   "cell_type": "markdown",
   "metadata": {},
   "source": [
    "Now let us look at the effect of applying $QFT$ to a $n$-qubit system. Let $N=2^n$."
   ]
  },
  {
   "cell_type": "markdown",
   "metadata": {},
   "source": [
    "Let $\\ket{j}$ be a basis state where $j=0,\\dots,N-1$. We will use the binary representation for $j$, that is $j=j_1j_2\\cdots j_n$ for $j_i \\in \\{0,1\\}$. More formally \n",
    "\n",
    "\\begin{equation} \\label{eq: binary}\n",
    "j=j_12^{n-1} + j_2 2^{n-2} + \\cdots + j_n2^0 = 2^n \\sum_{l=1}^n 2^{-l} j_l~~~~~~~~(1)\n",
    "\\end{equation}\n",
    " "
   ]
  },
  {
   "cell_type": "markdown",
   "metadata": {},
   "source": [
    "\n",
    "We will stick to the expression above but equivalently you may encounter the following expression for $j$ in various places.\n",
    "\n",
    "\\begin{align*}\n",
    "j&=2^n(j_1 2^{-1} + j_2 2^{-2} + \\cdots j_n 2^{-n}) \\\\\n",
    "&= 2^n (0.j_1j_2\\cdots j_n)\n",
    "\\end{align*}"
   ]
  },
  {
   "cell_type": "markdown",
   "metadata": {},
   "source": [
    "\n",
    "Now let's use this representation to express the state obtained after applying $QFT$ to $\\ket{j}$.\n"
   ]
  },
  {
   "cell_type": "markdown",
   "metadata": {},
   "source": [
    "\\begin{align*}\n",
    "\\ket{j}=\\ket{j_1j_2\\cdots j_n} &\\rightarrow  \\frac{1}{\\sqrt{N}} \\sum_{k=0}^{N-1}e^{\\frac{2\\pi i j k }{N}} \\ket{k}\\\\\n",
    "&=  \\frac{1}{2^{n/2}} \\sum_{k_1=0}^{1} \\cdots \\sum_{k_n=0}^{1}e^{2\\pi i j (\\sum_{o=1}^n k_o2^{-o})} \\ket{k_1k_2\\cdots k_n} \\mbox{   by replacing $k$ using Equation (1)} \\\\\n",
    "&=\\frac{1}{2^{n / 2}} \\sum_{k_{1}=0}^{1}  \\sum_{k_2=0}^{1}\\cdots \\sum_{k_{n}=0}^{1} \\prod_{o=1}^{n} e^{2 \\pi i j k_o 2^{-o}}|k_{1} \\ldots k_{n}\\rangle\\\\\n",
    "&=  \\frac{1}{2^{n/2}}\\otimes_{o=1}^n  \\sum_{k_o=0}^{1} e^{2\\pi i jk_o 2^{-o} } \\ket{k_o} \\mbox{   by writing the quantum state as the tensor product of $n$ qubits} \\\\\n",
    "&=  \\frac{1}{2^{n/2}} \\otimes_{o=1}^n \\biggl (\\ket{0} + e^{2\\pi i j 2^{-o} } \\ket{1} \\biggr) \\\\\n",
    "&= \\frac{1}{2^{n/2}} \\biggl ( \\bigl(\\ket{0} + e^{2\\pi i j 2^{-1}} \\ket{1} \\bigr) \\otimes  \\bigl(\\ket{0} + e^{2\\pi i j 2^{-2}}\\ket{1} \\bigr) \\otimes \\cdots \\otimes  \\bigl(\\ket{0} + e^{2\\pi i j 2^{-n}}\\ket{1} \\bigr ) \\biggr )~~~~~~ (2)\n",
    "\\end{align*} "
   ]
  },
  {
   "cell_type": "markdown",
   "metadata": {},
   "source": [
    "\n",
    "Let's find the correct gates for applying $QFT$. We are going to use two gates: Hadamard and controlled rotation gate. Check the following unitary operator:"
   ]
  },
  {
   "cell_type": "markdown",
   "metadata": {},
   "source": [
    "$$ CR_k = \\mymatrix{cccc}{1 & 0 & 0 & 0 \\\\ 0 & 1 & 0 & 0 \\\\ 0 & 0 & 1 & 0 \\\\ 0 & 0 & 0 & e^{\\frac{2\\pi i}{2^{k}}} }  $$"
   ]
  },
  {
   "cell_type": "markdown",
   "metadata": {},
   "source": [
    "$CR_k$ operator puts a relative phase of $e^{\\frac{2\\pi i}{2^k}}$ in front of the quantum state if both the controlled and the target qubits are in state $\\ket{1}$. It corresponds to a rotation around $z$-axis."
   ]
  },
  {
   "cell_type": "markdown",
   "metadata": {},
   "source": [
    "\\begin{align*}\n",
    "CR_k \\ket{00} &\\rightarrow \\ket{00} \\\\\n",
    "CR_k \\ket{01} &\\rightarrow \\ket{01} \\\\\n",
    "CR_k \\ket{10} &\\rightarrow \\ket{10} \\\\\n",
    "CR_k \\ket{11} &\\rightarrow  e^{\\frac{2\\pi i}{{2^k}}}\\ket{11} \\\\\n",
    "\\end{align*}"
   ]
  },
  {
   "cell_type": "markdown",
   "metadata": {},
   "source": [
    "Let $\\ket{j_1j_2\\cdots j_n}$ be the input state. Applying Hadamard to the first qubit, we get\n",
    "\n",
    "$$\n",
    "\\frac{1}{2^{1/2}} \\bigl (\\ket{0} + e^{2\\pi i j_1 2^{-1}} \\ket{1} \\bigr ) \\ket{j_2\\cdots j_n} \n",
    "$$"
   ]
  },
  {
   "cell_type": "markdown",
   "metadata": {},
   "source": [
    "since $e^{\\pi i j_1}=1$ if $j_1=0$ and $e^{\\pi i j_1} = -1$ if $j_1=1$."
   ]
  },
  {
   "cell_type": "markdown",
   "metadata": {},
   "source": [
    "Now let's apply the opreator $CR_2$ where second qubit is the control and the first qubit is the target. The resulting state is\n",
    "\n",
    "$$\n",
    "\\frac{1}{2^{1/2}} \\bigl (\\ket{0} + e^{2\\pi i  (j_1 2^{-1}+{j_2}{2^{-2}}  )} \\ket{1} \\bigr ) \\ket{j_2\\cdots j_n} \n",
    "$$\n",
    "\n"
   ]
  },
  {
   "cell_type": "markdown",
   "metadata": {},
   "source": [
    "After applying $CR_i$ where qubit $i$ is the controller and the first qubit is the target consecutively for $i=3\\dots n$, we obtain the state"
   ]
  },
  {
   "cell_type": "markdown",
   "metadata": {},
   "source": [
    "$$\n",
    "\\frac{1}{2^{1/2}} \\bigl (\\ket{0} + e^{2\\pi i  (j_1 2^{-1}+{j_2}{2^{-2}} +{j_3}{2^{-3}} \\dots {j_n}{2^{-n}}   )} \\ket{1} \\bigr ) \\ket{j_2\\cdots j_n} \n",
    "$$\n"
   ]
  },
  {
   "cell_type": "markdown",
   "metadata": {},
   "source": [
    "Noting that $j=2^n(j_1 2^{-1} + j_2 2^{-2} + \\cdots j_n 2^{-n})$, we get\n",
    "\n",
    "$$\n",
    "\\frac{1}{2^{1/2}} \\bigl (\\ket{0} + e^{2\\pi i j 2^{-n}} \\ket{1} \\bigr ) \\ket{j_2\\cdots j_n} \n",
    "$$"
   ]
  },
  {
   "cell_type": "markdown",
   "metadata": {},
   "source": [
    "<h3>Task 6 (on paper)</h3>\n",
    "\n",
    "Continue with the same procedure this time using the second qubit as the target and obtain the following state:\n",
    "\n",
    "$$\n",
    "\\frac{1}{2^{1/{4}}} \\bigl (\\ket{0} + e^{2\\pi i j 2^{-n}} \\ket{1} \\bigr ) \\bigl (\\ket{0} + e^{2\\pi i j 2^{-n+1}  } \\ket{1} \\bigr ) \\ket{j_3\\cdots j_n} \n",
    "$$\n",
    "\n",
    "- First apply Hadamard to second qubit\n",
    "\n",
    "- Then apply $CR_i$ where qubit $i+1$ is the control and the second qubit is the target for $i= 2 \\dots n-1$."
   ]
  },
  {
   "cell_type": "markdown",
   "metadata": {},
   "source": [
    "<a href=\"D02_Quantum_Fourier_Transform_Solutions.ipynb#task6\">click for our solution</a>"
   ]
  },
  {
   "cell_type": "markdown",
   "metadata": {},
   "source": [
    "The above procedure is repeated for each qubit and finally we get the state \n",
    "\n",
    "$$\n",
    "\\frac{1}{2^{n/2}} \\bigl (\\ket{0} + e^{2\\pi i j 2^{-n}} \\ket{1} \\bigr ) \\otimes  (\\ket{0} + e^{2\\pi i j 2^{-n+1}} \\ket{1} \\bigr ) \\otimes  \\cdots \\otimes  (\\ket{0} + e^{2\\pi i j 2^{-1}} \\ket{1} \\bigr  )\n",
    "$$"
   ]
  },
  {
   "cell_type": "markdown",
   "metadata": {},
   "source": [
    "Note that this is exactly Equation (2) except that the qubits are in the reverse order. This also proves that $QFT$ is unitary, as the gates we used are unitary gates. Overall, the $QFT$ circuit is given below:"
   ]
  },
  {
   "cell_type": "markdown",
   "metadata": {},
   "source": [
    "<img src=\"../images/qft.png\" width=\"80%\" align=\"left\">"
   ]
  },
  {
   "cell_type": "markdown",
   "metadata": {},
   "source": [
    "<hr>"
   ]
  },
  {
   "cell_type": "markdown",
   "metadata": {},
   "source": [
    "Now we are ready to implement our circuit in Cirq. To implement $CR_k$, we will use the `CPhase` gate form Qiskit. Let's start by importing necessay Qiskit objects."
   ]
  },
  {
   "cell_type": "code",
   "execution_count": 2,
   "metadata": {},
   "outputs": [],
   "source": [
    "from qiskit import QuantumCircuit, execute, Aer\n",
    "from math import pi\n",
    "\n",
    "# Get QASM Simluator\n",
    "qasm_simulator = Aer.get_backend('qasm_simulator')"
   ]
  },
  {
   "cell_type": "markdown",
   "metadata": {},
   "source": [
    "### CZPowGate\n",
    "\n",
    "In Qiskit, `CPhase` is given by the following unitary matrix: $$ CPhase(\\theta) = \\mymatrix{cccc}{1 & 0 & 0 & 0 \\\\ 0 & 1 & 0 & 0 \\\\ 0 & 0 & 1 & 0 \\\\ 0 & 0 & 0 & e^{i \\theta} } $$\n",
    "\n",
    "To apply `CPhase`, you can use `QuantumCircuit.cp` method with the parameter `theta`.\n",
    "```python\n",
    "circuit = QuantumCircuit(2)\n",
    "circuit.cp(\n",
    "    theta = pi/4, \n",
    "    control_qubit=0, \n",
    "    target_qubit=1,\n",
    ")\n",
    "```\n",
    "\n",
    "Drawing this circuit with `circuit.draw()` will result in:\n",
    "```\n",
    "q_0: ─■──\n",
    "      │λ\n",
    "q_1: ─■──\n",
    "```"
   ]
  },
  {
   "cell_type": "markdown",
   "metadata": {},
   "source": [
    "<h3>Task 7</h3>\n",
    "\n",
    "Implement the circuit for applying $QFT$ to a 2 qubit system. Try it using $\\ket{01}$ as your input state. Simulate your circuit and compare it with the solution of Task 1."
   ]
  },
  {
   "cell_type": "code",
   "execution_count": 3,
   "metadata": {},
   "outputs": [
    {
     "name": "stdout",
     "output_type": "stream",
     "text": [
      "{'01': 269, '11': 239, '00': 241, '10': 275}\n"
     ]
    }
   ],
   "source": [
    "#Create a QuantumCircuit with 2 qubits\n",
    "circuit = QuantumCircuit(2)\n",
    "\n",
    "# Apply Hadamard to first qubit\n",
    "circuit.h(0)\n",
    "\n",
    "# Apply CPhase gate with θ = 2πi / 2^2 to the circuit where\n",
    "# the first qubit is target and the second qubit is control\n",
    "\n",
    "circuit.cp(2*pi/2**2, 0, 1)\n",
    "\n",
    "# Apply Hadamard to second qubit\n",
    "circuit.h(1)\n",
    "\n",
    "# Swap the qubits\n",
    "circuit.swap(0,1)\n",
    "\n",
    "# Measure the circuit\n",
    "circuit.measure_active()\n",
    "\n",
    "#Simulate the circuit and print the results\n",
    "job = execute(circuit, qasm_simulator)\n",
    "counts = job \\\n",
    "    .result() \\\n",
    "    .get_counts()\n",
    "    \n",
    "print(counts)"
   ]
  },
  {
   "cell_type": "markdown",
   "metadata": {},
   "source": [
    "<a href=\"D02_Quantum_Fourier_Transform_Solutions.ipynb#task7\">click for our solution</a>"
   ]
  },
  {
   "cell_type": "code",
   "execution_count": 4,
   "metadata": {},
   "outputs": [
    {
     "data": {
      "image/svg+xml": [
       "<?xml version=\"1.0\" encoding=\"utf-8\" standalone=\"no\"?>\n",
       "<!DOCTYPE svg PUBLIC \"-//W3C//DTD SVG 1.1//EN\"\n",
       "  \"http://www.w3.org/Graphics/SVG/1.1/DTD/svg11.dtd\">\n",
       "<svg xmlns:xlink=\"http://www.w3.org/1999/xlink\" width=\"492.385669pt\" height=\"168.9334pt\" viewBox=\"0 0 492.385669 168.9334\" xmlns=\"http://www.w3.org/2000/svg\" version=\"1.1\">\n",
       " <metadata>\n",
       "  <rdf:RDF xmlns:dc=\"http://purl.org/dc/elements/1.1/\" xmlns:cc=\"http://creativecommons.org/ns#\" xmlns:rdf=\"http://www.w3.org/1999/02/22-rdf-syntax-ns#\">\n",
       "   <cc:Work>\n",
       "    <dc:type rdf:resource=\"http://purl.org/dc/dcmitype/StillImage\"/>\n",
       "    <dc:date>2021-11-17T12:11:34.299652</dc:date>\n",
       "    <dc:format>image/svg+xml</dc:format>\n",
       "    <dc:creator>\n",
       "     <cc:Agent>\n",
       "      <dc:title>Matplotlib v3.5.0, https://matplotlib.org/</dc:title>\n",
       "     </cc:Agent>\n",
       "    </dc:creator>\n",
       "   </cc:Work>\n",
       "  </rdf:RDF>\n",
       " </metadata>\n",
       " <defs>\n",
       "  <style type=\"text/css\">*{stroke-linejoin: round; stroke-linecap: butt}</style>\n",
       " </defs>\n",
       " <g id=\"figure_1\">\n",
       "  <g id=\"patch_1\">\n",
       "   <path d=\"M 0 168.9334 \n",
       "L 492.385669 168.9334 \n",
       "L 492.385669 0 \n",
       "L 0 0 \n",
       "z\n",
       "\" style=\"fill: #ffffff\"/>\n",
       "  </g>\n",
       "  <g id=\"axes_1\">\n",
       "   <g id=\"patch_2\">\n",
       "    <path d=\"M 403.828379 124.122698 \n",
       "L 415.645639 124.122698 \n",
       "L 409.737009 132.64476 \n",
       "z\n",
       "\" clip-path=\"url(#p53bf90c5dd)\" style=\"fill: #778899\"/>\n",
       "   </g>\n",
       "   <g id=\"patch_3\">\n",
       "    <path d=\"M 449.279379 124.122698 \n",
       "L 461.096639 124.122698 \n",
       "L 455.188009 132.64476 \n",
       "z\n",
       "\" clip-path=\"url(#p53bf90c5dd)\" style=\"fill: #778899\"/>\n",
       "   </g>\n",
       "   <g id=\"line2d_1\">\n",
       "    <path d=\"M 112.487469 43.5608 \n",
       "L 480.640569 43.5608 \n",
       "\" clip-path=\"url(#p53bf90c5dd)\" style=\"fill: none; stroke: #000000; stroke-width: 2; stroke-linecap: square\"/>\n",
       "   </g>\n",
       "   <g id=\"line2d_2\">\n",
       "    <path d=\"M 112.487469 89.0118 \n",
       "L 480.640569 89.0118 \n",
       "\" clip-path=\"url(#p53bf90c5dd)\" style=\"fill: none; stroke: #000000; stroke-width: 2; stroke-linecap: square\"/>\n",
       "   </g>\n",
       "   <g id=\"line2d_3\">\n",
       "    <path d=\"M 112.487469 132.985643 \n",
       "L 480.640569 132.985643 \n",
       "\" clip-path=\"url(#p53bf90c5dd)\" style=\"fill: none; stroke: #778899; stroke-width: 2; stroke-linecap: square\"/>\n",
       "   </g>\n",
       "   <g id=\"line2d_4\">\n",
       "    <path d=\"M 112.487469 135.939958 \n",
       "L 480.640569 135.939958 \n",
       "\" clip-path=\"url(#p53bf90c5dd)\" style=\"fill: none; stroke: #778899; stroke-width: 2; stroke-linecap: square\"/>\n",
       "   </g>\n",
       "   <g id=\"line2d_5\">\n",
       "    <path d=\"M 205.207509 89.0118 \n",
       "L 205.207509 43.5608 \n",
       "\" clip-path=\"url(#p53bf90c5dd)\" style=\"fill: none; stroke: #bb8bff; stroke-width: 2; stroke-linecap: square\"/>\n",
       "   </g>\n",
       "   <g id=\"line2d_6\">\n",
       "    <path d=\"M 318.835009 89.0118 \n",
       "L 318.835009 43.5608 \n",
       "\" clip-path=\"url(#p53bf90c5dd)\" style=\"fill: none; stroke: #6fa4ff; stroke-width: 2; stroke-linecap: square\"/>\n",
       "   </g>\n",
       "   <g id=\"patch_4\">\n",
       "    <path d=\"M 355.423064 66.2863 \n",
       "L 373.148954 66.2863 \n",
       "L 373.148954 20.8353 \n",
       "L 355.423064 20.8353 \n",
       "z\n",
       "\" clip-path=\"url(#p53bf90c5dd)\" style=\"fill: #bdbdbd; opacity: 0.6\"/>\n",
       "   </g>\n",
       "   <g id=\"patch_5\">\n",
       "    <path d=\"M 355.423064 111.7373 \n",
       "L 373.148954 111.7373 \n",
       "L 373.148954 66.2863 \n",
       "L 355.423064 66.2863 \n",
       "z\n",
       "\" clip-path=\"url(#p53bf90c5dd)\" style=\"fill: #bdbdbd; opacity: 0.6\"/>\n",
       "   </g>\n",
       "   <g id=\"line2d_7\">\n",
       "    <path d=\"M 411.214166 43.5608 \n",
       "L 411.214166 124.122698 \n",
       "\" clip-path=\"url(#p53bf90c5dd)\" style=\"fill: none; stroke: #778899; stroke-width: 2; stroke-linecap: square\"/>\n",
       "   </g>\n",
       "   <g id=\"line2d_8\">\n",
       "    <path d=\"M 408.259851 43.5608 \n",
       "L 408.259851 124.122698 \n",
       "\" clip-path=\"url(#p53bf90c5dd)\" style=\"fill: none; stroke: #778899; stroke-width: 2; stroke-linecap: square\"/>\n",
       "   </g>\n",
       "   <g id=\"line2d_9\">\n",
       "    <path d=\"M 456.665166 89.0118 \n",
       "L 456.665166 124.122698 \n",
       "\" clip-path=\"url(#p53bf90c5dd)\" style=\"fill: none; stroke: #778899; stroke-width: 2; stroke-linecap: square\"/>\n",
       "   </g>\n",
       "   <g id=\"line2d_10\">\n",
       "    <path d=\"M 453.710851 89.0118 \n",
       "L 453.710851 124.122698 \n",
       "\" clip-path=\"url(#p53bf90c5dd)\" style=\"fill: none; stroke: #778899; stroke-width: 2; stroke-linecap: square\"/>\n",
       "   </g>\n",
       "   <g id=\"line2d_11\">\n",
       "    <path d=\"M 121.577669 139.0079 \n",
       "L 126.122769 129.9177 \n",
       "\" clip-path=\"url(#p53bf90c5dd)\" style=\"fill: none; stroke: #778899; stroke-width: 1.5; stroke-linecap: square\"/>\n",
       "   </g>\n",
       "   <g id=\"line2d_12\">\n",
       "    <path d=\"M 312.926379 49.46943 \n",
       "L 324.743639 37.65217 \n",
       "\" clip-path=\"url(#p53bf90c5dd)\" style=\"fill: none; stroke: #6fa4ff; stroke-width: 2; stroke-linecap: square\"/>\n",
       "   </g>\n",
       "   <g id=\"line2d_13\">\n",
       "    <path d=\"M 312.926379 37.65217 \n",
       "L 324.743639 49.46943 \n",
       "\" clip-path=\"url(#p53bf90c5dd)\" style=\"fill: none; stroke: #6fa4ff; stroke-width: 2; stroke-linecap: square\"/>\n",
       "   </g>\n",
       "   <g id=\"line2d_14\">\n",
       "    <path d=\"M 312.926379 94.92043 \n",
       "L 324.743639 83.10317 \n",
       "\" clip-path=\"url(#p53bf90c5dd)\" style=\"fill: none; stroke: #6fa4ff; stroke-width: 2; stroke-linecap: square\"/>\n",
       "   </g>\n",
       "   <g id=\"line2d_15\">\n",
       "    <path d=\"M 312.926379 83.10317 \n",
       "L 324.743639 94.92043 \n",
       "\" clip-path=\"url(#p53bf90c5dd)\" style=\"fill: none; stroke: #6fa4ff; stroke-width: 2; stroke-linecap: square\"/>\n",
       "   </g>\n",
       "   <g id=\"patch_6\">\n",
       "    <path d=\"M 122.259434 58.332375 \n",
       "L 151.802584 58.332375 \n",
       "L 151.802584 28.789225 \n",
       "L 122.259434 28.789225 \n",
       "z\n",
       "\" clip-path=\"url(#p53bf90c5dd)\" style=\"fill: #6fa4ff; stroke: #6fa4ff; stroke-width: 1.5; stroke-linejoin: miter\"/>\n",
       "   </g>\n",
       "   <g id=\"patch_7\">\n",
       "    <path d=\"M 205.207509 47.992273 \n",
       "C 206.382749 47.992273 207.510013 47.525345 208.341033 46.694324 \n",
       "C 209.172053 45.863304 209.638981 44.73604 209.638981 43.5608 \n",
       "C 209.638981 42.38556 209.172053 41.258296 208.341033 40.427276 \n",
       "C 207.510013 39.596255 206.382749 39.129328 205.207509 39.129328 \n",
       "C 204.032269 39.129328 202.905005 39.596255 202.073984 40.427276 \n",
       "C 201.242964 41.258296 200.776036 42.38556 200.776036 43.5608 \n",
       "C 200.776036 44.73604 201.242964 45.863304 202.073984 46.694324 \n",
       "C 202.905005 47.525345 204.032269 47.992273 205.207509 47.992273 \n",
       "z\n",
       "\" clip-path=\"url(#p53bf90c5dd)\" style=\"fill: #bb8bff; stroke: #bb8bff; stroke-width: 1.5; stroke-linejoin: miter\"/>\n",
       "   </g>\n",
       "   <g id=\"patch_8\">\n",
       "    <path d=\"M 205.207509 93.443273 \n",
       "C 206.382749 93.443273 207.510013 92.976345 208.341033 92.145324 \n",
       "C 209.172053 91.314304 209.638981 90.18704 209.638981 89.0118 \n",
       "C 209.638981 87.83656 209.172053 86.709296 208.341033 85.878276 \n",
       "C 207.510013 85.047255 206.382749 84.580328 205.207509 84.580328 \n",
       "C 204.032269 84.580328 202.905005 85.047255 202.073984 85.878276 \n",
       "C 201.242964 86.709296 200.776036 87.83656 200.776036 89.0118 \n",
       "C 200.776036 90.18704 201.242964 91.314304 202.073984 92.145324 \n",
       "C 202.905005 92.976345 204.032269 93.443273 205.207509 93.443273 \n",
       "z\n",
       "\" clip-path=\"url(#p53bf90c5dd)\" style=\"fill: #bb8bff; stroke: #bb8bff; stroke-width: 1.5; stroke-linejoin: miter\"/>\n",
       "   </g>\n",
       "   <g id=\"patch_9\">\n",
       "    <path d=\"M 258.612434 103.783375 \n",
       "L 288.155584 103.783375 \n",
       "L 288.155584 74.240225 \n",
       "L 258.612434 74.240225 \n",
       "z\n",
       "\" clip-path=\"url(#p53bf90c5dd)\" style=\"fill: #6fa4ff; stroke: #6fa4ff; stroke-width: 1.5; stroke-linejoin: miter\"/>\n",
       "   </g>\n",
       "   <g id=\"patch_10\">\n",
       "    <path d=\"M 394.965434 58.332375 \n",
       "L 424.508584 58.332375 \n",
       "L 424.508584 28.789225 \n",
       "L 394.965434 28.789225 \n",
       "z\n",
       "\" clip-path=\"url(#p53bf90c5dd)\" style=\"stroke: #000000; stroke-width: 1.5; stroke-linejoin: miter\"/>\n",
       "   </g>\n",
       "   <g id=\"patch_11\">\n",
       "    <path d=\"M 420.077111 47.992273 \n",
       "C 420.077111 45.250959 418.986967 42.619118 417.048565 40.680716 \n",
       "C 415.110164 38.742314 412.478323 37.65217 409.737009 37.65217 \n",
       "C 406.995695 37.65217 404.363854 38.742314 402.425452 40.680716 \n",
       "C 400.48705 42.619118 399.396906 45.250959 399.396906 47.992273 \n",
       "\" clip-path=\"url(#p53bf90c5dd)\" style=\"fill: none; stroke: #ffffff; stroke-width: 2; stroke-linejoin: miter\"/>\n",
       "   </g>\n",
       "   <g id=\"line2d_16\">\n",
       "    <path d=\"M 409.737009 47.992273 \n",
       "L 420.077111 37.65217 \n",
       "\" clip-path=\"url(#p53bf90c5dd)\" style=\"fill: none; stroke: #ffffff; stroke-width: 2; stroke-linecap: square\"/>\n",
       "   </g>\n",
       "   <g id=\"patch_12\">\n",
       "    <path d=\"M 440.416434 103.783375 \n",
       "L 469.959584 103.783375 \n",
       "L 469.959584 74.240225 \n",
       "L 440.416434 74.240225 \n",
       "z\n",
       "\" clip-path=\"url(#p53bf90c5dd)\" style=\"stroke: #000000; stroke-width: 1.5; stroke-linejoin: miter\"/>\n",
       "   </g>\n",
       "   <g id=\"patch_13\">\n",
       "    <path d=\"M 465.528111 93.443273 \n",
       "C 465.528111 90.701959 464.437967 88.070118 462.499565 86.131716 \n",
       "C 460.561164 84.193314 457.929323 83.10317 455.188009 83.10317 \n",
       "C 452.446695 83.10317 449.814854 84.193314 447.876452 86.131716 \n",
       "C 445.93805 88.070118 444.847906 90.701959 444.847906 93.443273 \n",
       "\" clip-path=\"url(#p53bf90c5dd)\" style=\"fill: none; stroke: #ffffff; stroke-width: 2; stroke-linejoin: miter\"/>\n",
       "   </g>\n",
       "   <g id=\"line2d_17\">\n",
       "    <path d=\"M 455.188009 93.443273 \n",
       "L 465.528111 83.10317 \n",
       "\" clip-path=\"url(#p53bf90c5dd)\" style=\"fill: none; stroke: #ffffff; stroke-width: 2; stroke-linecap: square\"/>\n",
       "   </g>\n",
       "   <g id=\"text_1\">\n",
       "    <g clip-path=\"url(#p53bf90c5dd)\">\n",
       "     <!-- H -->\n",
       "     <g transform=\"translate(132.142806 47.147988)scale(0.13 -0.13)\">\n",
       "      <defs>\n",
       "       <path id=\"DejaVuSans-48\" d=\"M 628 4666 \n",
       "L 1259 4666 \n",
       "L 1259 2753 \n",
       "L 3553 2753 \n",
       "L 3553 4666 \n",
       "L 4184 4666 \n",
       "L 4184 0 \n",
       "L 3553 0 \n",
       "L 3553 2222 \n",
       "L 1259 2222 \n",
       "L 1259 0 \n",
       "L 628 0 \n",
       "L 628 4666 \n",
       "z\n",
       "\" transform=\"scale(0.015625)\"/>\n",
       "      </defs>\n",
       "      <use xlink:href=\"#DejaVuSans-48\"/>\n",
       "     </g>\n",
       "    </g>\n",
       "   </g>\n",
       "   <g id=\"text_2\">\n",
       "    <g clip-path=\"url(#p53bf90c5dd)\">\n",
       "     <!-- P ($\\pi$/2) -->\n",
       "     <g transform=\"translate(210.842419 65.5474)scale(0.08 -0.08)\">\n",
       "      <defs>\n",
       "       <path id=\"DejaVuSans-50\" d=\"M 1259 4147 \n",
       "L 1259 2394 \n",
       "L 2053 2394 \n",
       "Q 2494 2394 2734 2622 \n",
       "Q 2975 2850 2975 3272 \n",
       "Q 2975 3691 2734 3919 \n",
       "Q 2494 4147 2053 4147 \n",
       "L 1259 4147 \n",
       "z\n",
       "M 628 4666 \n",
       "L 2053 4666 \n",
       "Q 2838 4666 3239 4311 \n",
       "Q 3641 3956 3641 3272 \n",
       "Q 3641 2581 3239 2228 \n",
       "Q 2838 1875 2053 1875 \n",
       "L 1259 1875 \n",
       "L 1259 0 \n",
       "L 628 0 \n",
       "L 628 4666 \n",
       "z\n",
       "\" transform=\"scale(0.015625)\"/>\n",
       "       <path id=\"DejaVuSans-20\" transform=\"scale(0.015625)\"/>\n",
       "       <path id=\"DejaVuSans-28\" d=\"M 1984 4856 \n",
       "Q 1566 4138 1362 3434 \n",
       "Q 1159 2731 1159 2009 \n",
       "Q 1159 1288 1364 580 \n",
       "Q 1569 -128 1984 -844 \n",
       "L 1484 -844 \n",
       "Q 1016 -109 783 600 \n",
       "Q 550 1309 550 2009 \n",
       "Q 550 2706 781 3412 \n",
       "Q 1013 4119 1484 4856 \n",
       "L 1984 4856 \n",
       "z\n",
       "\" transform=\"scale(0.015625)\"/>\n",
       "       <path id=\"DejaVuSans-Oblique-3c0\" d=\"M 584 3500 \n",
       "L 3938 3500 \n",
       "L 3825 2925 \n",
       "L 3384 2925 \n",
       "L 2966 775 \n",
       "Q 2922 550 2981 450 \n",
       "Q 3038 353 3209 353 \n",
       "Q 3256 353 3325 363 \n",
       "Q 3397 369 3419 372 \n",
       "L 3338 -44 \n",
       "Q 3222 -84 3103 -103 \n",
       "Q 2981 -122 2866 -122 \n",
       "Q 2491 -122 2388 81 \n",
       "Q 2284 288 2391 838 \n",
       "L 2797 2925 \n",
       "L 1506 2925 \n",
       "L 938 0 \n",
       "L 350 0 \n",
       "L 919 2925 \n",
       "L 472 2925 \n",
       "L 584 3500 \n",
       "z\n",
       "\" transform=\"scale(0.015625)\"/>\n",
       "       <path id=\"DejaVuSans-2f\" d=\"M 1625 4666 \n",
       "L 2156 4666 \n",
       "L 531 -594 \n",
       "L 0 -594 \n",
       "L 1625 4666 \n",
       "z\n",
       "\" transform=\"scale(0.015625)\"/>\n",
       "       <path id=\"DejaVuSans-32\" d=\"M 1228 531 \n",
       "L 3431 531 \n",
       "L 3431 0 \n",
       "L 469 0 \n",
       "L 469 531 \n",
       "Q 828 903 1448 1529 \n",
       "Q 2069 2156 2228 2338 \n",
       "Q 2531 2678 2651 2914 \n",
       "Q 2772 3150 2772 3378 \n",
       "Q 2772 3750 2511 3984 \n",
       "Q 2250 4219 1831 4219 \n",
       "Q 1534 4219 1204 4116 \n",
       "Q 875 4013 500 3803 \n",
       "L 500 4441 \n",
       "Q 881 4594 1212 4672 \n",
       "Q 1544 4750 1819 4750 \n",
       "Q 2544 4750 2975 4387 \n",
       "Q 3406 4025 3406 3419 \n",
       "Q 3406 3131 3298 2873 \n",
       "Q 3191 2616 2906 2266 \n",
       "Q 2828 2175 2409 1742 \n",
       "Q 1991 1309 1228 531 \n",
       "z\n",
       "\" transform=\"scale(0.015625)\"/>\n",
       "       <path id=\"DejaVuSans-29\" d=\"M 513 4856 \n",
       "L 1013 4856 \n",
       "Q 1481 4119 1714 3412 \n",
       "Q 1947 2706 1947 2009 \n",
       "Q 1947 1309 1714 600 \n",
       "Q 1481 -109 1013 -844 \n",
       "L 513 -844 \n",
       "Q 928 -128 1133 580 \n",
       "Q 1338 1288 1338 2009 \n",
       "Q 1338 2731 1133 3434 \n",
       "Q 928 4138 513 4856 \n",
       "z\n",
       "\" transform=\"scale(0.015625)\"/>\n",
       "      </defs>\n",
       "      <use xlink:href=\"#DejaVuSans-50\" transform=\"translate(0 0.125)\"/>\n",
       "      <use xlink:href=\"#DejaVuSans-20\" transform=\"translate(60.302734 0.125)\"/>\n",
       "      <use xlink:href=\"#DejaVuSans-28\" transform=\"translate(92.089844 0.125)\"/>\n",
       "      <use xlink:href=\"#DejaVuSans-Oblique-3c0\" transform=\"translate(131.103516 0.125)\"/>\n",
       "      <use xlink:href=\"#DejaVuSans-2f\" transform=\"translate(191.308594 0.125)\"/>\n",
       "      <use xlink:href=\"#DejaVuSans-32\" transform=\"translate(221.375 0.125)\"/>\n",
       "      <use xlink:href=\"#DejaVuSans-29\" transform=\"translate(284.998047 0.125)\"/>\n",
       "     </g>\n",
       "    </g>\n",
       "   </g>\n",
       "   <g id=\"text_3\">\n",
       "    <g clip-path=\"url(#p53bf90c5dd)\">\n",
       "     <!-- H -->\n",
       "     <g transform=\"translate(268.495806 92.598988)scale(0.13 -0.13)\">\n",
       "      <use xlink:href=\"#DejaVuSans-48\"/>\n",
       "     </g>\n",
       "    </g>\n",
       "   </g>\n",
       "   <g id=\"line2d_18\">\n",
       "    <path d=\"M 364.286009 20.8353 \n",
       "L 364.286009 66.2863 \n",
       "\" clip-path=\"url(#p53bf90c5dd)\" style=\"fill: none; stroke-dasharray: 3.7,1.6; stroke-dashoffset: 0; stroke: #000000\"/>\n",
       "   </g>\n",
       "   <g id=\"line2d_19\">\n",
       "    <path d=\"M 364.286009 66.2863 \n",
       "L 364.286009 111.7373 \n",
       "\" clip-path=\"url(#p53bf90c5dd)\" style=\"fill: none; stroke-dasharray: 3.7,1.6; stroke-dashoffset: 0; stroke: #000000\"/>\n",
       "   </g>\n",
       "   <g id=\"text_4\">\n",
       "    <g clip-path=\"url(#p53bf90c5dd)\">\n",
       "     <!-- 0 -->\n",
       "     <g transform=\"translate(421.099759 127.754825)scale(0.104 -0.104)\">\n",
       "      <defs>\n",
       "       <path id=\"DejaVuSans-30\" d=\"M 2034 4250 \n",
       "Q 1547 4250 1301 3770 \n",
       "Q 1056 3291 1056 2328 \n",
       "Q 1056 1369 1301 889 \n",
       "Q 1547 409 2034 409 \n",
       "Q 2525 409 2770 889 \n",
       "Q 3016 1369 3016 2328 \n",
       "Q 3016 3291 2770 3770 \n",
       "Q 2525 4250 2034 4250 \n",
       "z\n",
       "M 2034 4750 \n",
       "Q 2819 4750 3233 4129 \n",
       "Q 3647 3509 3647 2328 \n",
       "Q 3647 1150 3233 529 \n",
       "Q 2819 -91 2034 -91 \n",
       "Q 1250 -91 836 529 \n",
       "Q 422 1150 422 2328 \n",
       "Q 422 3509 836 4129 \n",
       "Q 1250 4750 2034 4750 \n",
       "z\n",
       "\" transform=\"scale(0.015625)\"/>\n",
       "      </defs>\n",
       "      <use xlink:href=\"#DejaVuSans-30\"/>\n",
       "     </g>\n",
       "    </g>\n",
       "   </g>\n",
       "   <g id=\"text_5\">\n",
       "    <g clip-path=\"url(#p53bf90c5dd)\">\n",
       "     <!-- 1 -->\n",
       "     <g transform=\"translate(466.550759 127.754825)scale(0.104 -0.104)\">\n",
       "      <defs>\n",
       "       <path id=\"DejaVuSans-31\" d=\"M 794 531 \n",
       "L 1825 531 \n",
       "L 1825 4091 \n",
       "L 703 3866 \n",
       "L 703 4441 \n",
       "L 1819 4666 \n",
       "L 2450 4666 \n",
       "L 2450 531 \n",
       "L 3481 531 \n",
       "L 3481 0 \n",
       "L 794 0 \n",
       "L 794 531 \n",
       "z\n",
       "\" transform=\"scale(0.015625)\"/>\n",
       "      </defs>\n",
       "      <use xlink:href=\"#DejaVuSans-31\"/>\n",
       "     </g>\n",
       "    </g>\n",
       "   </g>\n",
       "   <g id=\"text_6\">\n",
       "    <g clip-path=\"url(#p53bf90c5dd)\">\n",
       "     <!-- ${q}_{0}$ -->\n",
       "     <g transform=\"translate(85.359769 48.011777)scale(0.1625 -0.1625)\">\n",
       "      <defs>\n",
       "       <path id=\"DejaVuSans-Oblique-71\" d=\"M 2669 525 \n",
       "Q 2438 222 2123 65 \n",
       "Q 1809 -91 1428 -91 \n",
       "Q 897 -91 595 267 \n",
       "Q 294 625 294 1253 \n",
       "Q 294 1759 480 2231 \n",
       "Q 666 2703 1013 3078 \n",
       "Q 1238 3322 1530 3453 \n",
       "Q 1822 3584 2144 3584 \n",
       "Q 2531 3584 2781 3431 \n",
       "Q 3031 3278 3144 2969 \n",
       "L 3244 3494 \n",
       "L 3822 3494 \n",
       "L 2888 -1319 \n",
       "L 2309 -1319 \n",
       "L 2669 525 \n",
       "z\n",
       "M 891 1338 \n",
       "Q 891 875 1084 633 \n",
       "Q 1278 391 1644 391 \n",
       "Q 2188 391 2572 911 \n",
       "Q 2956 1431 2956 2175 \n",
       "Q 2956 2625 2757 2864 \n",
       "Q 2559 3103 2188 3103 \n",
       "Q 1916 3103 1684 2976 \n",
       "Q 1453 2850 1281 2606 \n",
       "Q 1100 2350 995 2006 \n",
       "Q 891 1663 891 1338 \n",
       "z\n",
       "\" transform=\"scale(0.015625)\"/>\n",
       "      </defs>\n",
       "      <use xlink:href=\"#DejaVuSans-Oblique-71\"/>\n",
       "      <use xlink:href=\"#DejaVuSans-30\" transform=\"translate(63.476562 -16.40625)scale(0.7)\"/>\n",
       "     </g>\n",
       "    </g>\n",
       "   </g>\n",
       "   <g id=\"text_7\">\n",
       "    <g clip-path=\"url(#p53bf90c5dd)\">\n",
       "     <!-- ${q}_{1}$ -->\n",
       "     <g transform=\"translate(85.359769 93.462777)scale(0.1625 -0.1625)\">\n",
       "      <use xlink:href=\"#DejaVuSans-Oblique-71\"/>\n",
       "      <use xlink:href=\"#DejaVuSans-31\" transform=\"translate(63.476562 -16.40625)scale(0.7)\"/>\n",
       "     </g>\n",
       "    </g>\n",
       "   </g>\n",
       "   <g id=\"text_8\">\n",
       "    <g clip-path=\"url(#p53bf90c5dd)\">\n",
       "     <!-- 2 -->\n",
       "     <g transform=\"translate(117.032569 127.754825)scale(0.104 -0.104)\">\n",
       "      <use xlink:href=\"#DejaVuSans-32\"/>\n",
       "     </g>\n",
       "    </g>\n",
       "   </g>\n",
       "   <g id=\"text_9\">\n",
       "    <g clip-path=\"url(#p53bf90c5dd)\">\n",
       "     <!-- measure -->\n",
       "     <g transform=\"translate(32.534573 138.946784)scale(0.1625 -0.1625)\">\n",
       "      <defs>\n",
       "       <path id=\"DejaVuSans-6d\" d=\"M 3328 2828 \n",
       "Q 3544 3216 3844 3400 \n",
       "Q 4144 3584 4550 3584 \n",
       "Q 5097 3584 5394 3201 \n",
       "Q 5691 2819 5691 2113 \n",
       "L 5691 0 \n",
       "L 5113 0 \n",
       "L 5113 2094 \n",
       "Q 5113 2597 4934 2840 \n",
       "Q 4756 3084 4391 3084 \n",
       "Q 3944 3084 3684 2787 \n",
       "Q 3425 2491 3425 1978 \n",
       "L 3425 0 \n",
       "L 2847 0 \n",
       "L 2847 2094 \n",
       "Q 2847 2600 2669 2842 \n",
       "Q 2491 3084 2119 3084 \n",
       "Q 1678 3084 1418 2786 \n",
       "Q 1159 2488 1159 1978 \n",
       "L 1159 0 \n",
       "L 581 0 \n",
       "L 581 3500 \n",
       "L 1159 3500 \n",
       "L 1159 2956 \n",
       "Q 1356 3278 1631 3431 \n",
       "Q 1906 3584 2284 3584 \n",
       "Q 2666 3584 2933 3390 \n",
       "Q 3200 3197 3328 2828 \n",
       "z\n",
       "\" transform=\"scale(0.015625)\"/>\n",
       "       <path id=\"DejaVuSans-65\" d=\"M 3597 1894 \n",
       "L 3597 1613 \n",
       "L 953 1613 \n",
       "Q 991 1019 1311 708 \n",
       "Q 1631 397 2203 397 \n",
       "Q 2534 397 2845 478 \n",
       "Q 3156 559 3463 722 \n",
       "L 3463 178 \n",
       "Q 3153 47 2828 -22 \n",
       "Q 2503 -91 2169 -91 \n",
       "Q 1331 -91 842 396 \n",
       "Q 353 884 353 1716 \n",
       "Q 353 2575 817 3079 \n",
       "Q 1281 3584 2069 3584 \n",
       "Q 2775 3584 3186 3129 \n",
       "Q 3597 2675 3597 1894 \n",
       "z\n",
       "M 3022 2063 \n",
       "Q 3016 2534 2758 2815 \n",
       "Q 2500 3097 2075 3097 \n",
       "Q 1594 3097 1305 2825 \n",
       "Q 1016 2553 972 2059 \n",
       "L 3022 2063 \n",
       "z\n",
       "\" transform=\"scale(0.015625)\"/>\n",
       "       <path id=\"DejaVuSans-61\" d=\"M 2194 1759 \n",
       "Q 1497 1759 1228 1600 \n",
       "Q 959 1441 959 1056 \n",
       "Q 959 750 1161 570 \n",
       "Q 1363 391 1709 391 \n",
       "Q 2188 391 2477 730 \n",
       "Q 2766 1069 2766 1631 \n",
       "L 2766 1759 \n",
       "L 2194 1759 \n",
       "z\n",
       "M 3341 1997 \n",
       "L 3341 0 \n",
       "L 2766 0 \n",
       "L 2766 531 \n",
       "Q 2569 213 2275 61 \n",
       "Q 1981 -91 1556 -91 \n",
       "Q 1019 -91 701 211 \n",
       "Q 384 513 384 1019 \n",
       "Q 384 1609 779 1909 \n",
       "Q 1175 2209 1959 2209 \n",
       "L 2766 2209 \n",
       "L 2766 2266 \n",
       "Q 2766 2663 2505 2880 \n",
       "Q 2244 3097 1772 3097 \n",
       "Q 1472 3097 1187 3025 \n",
       "Q 903 2953 641 2809 \n",
       "L 641 3341 \n",
       "Q 956 3463 1253 3523 \n",
       "Q 1550 3584 1831 3584 \n",
       "Q 2591 3584 2966 3190 \n",
       "Q 3341 2797 3341 1997 \n",
       "z\n",
       "\" transform=\"scale(0.015625)\"/>\n",
       "       <path id=\"DejaVuSans-73\" d=\"M 2834 3397 \n",
       "L 2834 2853 \n",
       "Q 2591 2978 2328 3040 \n",
       "Q 2066 3103 1784 3103 \n",
       "Q 1356 3103 1142 2972 \n",
       "Q 928 2841 928 2578 \n",
       "Q 928 2378 1081 2264 \n",
       "Q 1234 2150 1697 2047 \n",
       "L 1894 2003 \n",
       "Q 2506 1872 2764 1633 \n",
       "Q 3022 1394 3022 966 \n",
       "Q 3022 478 2636 193 \n",
       "Q 2250 -91 1575 -91 \n",
       "Q 1294 -91 989 -36 \n",
       "Q 684 19 347 128 \n",
       "L 347 722 \n",
       "Q 666 556 975 473 \n",
       "Q 1284 391 1588 391 \n",
       "Q 1994 391 2212 530 \n",
       "Q 2431 669 2431 922 \n",
       "Q 2431 1156 2273 1281 \n",
       "Q 2116 1406 1581 1522 \n",
       "L 1381 1569 \n",
       "Q 847 1681 609 1914 \n",
       "Q 372 2147 372 2553 \n",
       "Q 372 3047 722 3315 \n",
       "Q 1072 3584 1716 3584 \n",
       "Q 2034 3584 2315 3537 \n",
       "Q 2597 3491 2834 3397 \n",
       "z\n",
       "\" transform=\"scale(0.015625)\"/>\n",
       "       <path id=\"DejaVuSans-75\" d=\"M 544 1381 \n",
       "L 544 3500 \n",
       "L 1119 3500 \n",
       "L 1119 1403 \n",
       "Q 1119 906 1312 657 \n",
       "Q 1506 409 1894 409 \n",
       "Q 2359 409 2629 706 \n",
       "Q 2900 1003 2900 1516 \n",
       "L 2900 3500 \n",
       "L 3475 3500 \n",
       "L 3475 0 \n",
       "L 2900 0 \n",
       "L 2900 538 \n",
       "Q 2691 219 2414 64 \n",
       "Q 2138 -91 1772 -91 \n",
       "Q 1169 -91 856 284 \n",
       "Q 544 659 544 1381 \n",
       "z\n",
       "M 1991 3584 \n",
       "L 1991 3584 \n",
       "z\n",
       "\" transform=\"scale(0.015625)\"/>\n",
       "       <path id=\"DejaVuSans-72\" d=\"M 2631 2963 \n",
       "Q 2534 3019 2420 3045 \n",
       "Q 2306 3072 2169 3072 \n",
       "Q 1681 3072 1420 2755 \n",
       "Q 1159 2438 1159 1844 \n",
       "L 1159 0 \n",
       "L 581 0 \n",
       "L 581 3500 \n",
       "L 1159 3500 \n",
       "L 1159 2956 \n",
       "Q 1341 3275 1631 3429 \n",
       "Q 1922 3584 2338 3584 \n",
       "Q 2397 3584 2469 3576 \n",
       "Q 2541 3569 2628 3553 \n",
       "L 2631 2963 \n",
       "z\n",
       "\" transform=\"scale(0.015625)\"/>\n",
       "      </defs>\n",
       "      <use xlink:href=\"#DejaVuSans-6d\"/>\n",
       "      <use xlink:href=\"#DejaVuSans-65\" x=\"97.412109\"/>\n",
       "      <use xlink:href=\"#DejaVuSans-61\" x=\"158.935547\"/>\n",
       "      <use xlink:href=\"#DejaVuSans-73\" x=\"220.214844\"/>\n",
       "      <use xlink:href=\"#DejaVuSans-75\" x=\"272.314453\"/>\n",
       "      <use xlink:href=\"#DejaVuSans-72\" x=\"335.693359\"/>\n",
       "      <use xlink:href=\"#DejaVuSans-65\" x=\"374.556641\"/>\n",
       "     </g>\n",
       "    </g>\n",
       "   </g>\n",
       "  </g>\n",
       " </g>\n",
       " <defs>\n",
       "  <clipPath id=\"p53bf90c5dd\">\n",
       "   <rect x=\"7.2\" y=\"7.2\" width=\"477.985669\" height=\"154.5334\"/>\n",
       "  </clipPath>\n",
       " </defs>\n",
       "</svg>\n"
      ],
      "text/plain": [
       "<Figure size 633.094x204.68 with 1 Axes>"
      ]
     },
     "execution_count": 4,
     "metadata": {},
     "output_type": "execute_result"
    }
   ],
   "source": [
    "circuit.draw(output='mpl')"
   ]
  },
  {
   "cell_type": "markdown",
   "metadata": {},
   "source": [
    "<h3>Task 8 </h3> \n",
    "\n",
    "Implement the circuit which applies $QFT$ to any $n$-qubit system. Define a function named <i>qft</i> which takes the number of qubits, the qubits and the circuit as its parameter. Simulate the circuit for $n=3$ on all possible input states."
   ]
  },
  {
   "cell_type": "code",
   "execution_count": 14,
   "metadata": {},
   "outputs": [],
   "source": [
    "def qft(n,circuit):\n",
    "    \n",
    "    #Your code here\n",
    "    \n",
    "    # Go over the target qubits\n",
    "    for target in range(n):\n",
    "        circuit.h(target)\n",
    "\n",
    "        # For each target qubit, apply CPhase\n",
    "        # gates with control qubits ranging\n",
    "        # from target+1 to n\n",
    "        for control in range(target+1, n):\n",
    "            j = control + 2\n",
    "            circuit.cp(\n",
    "                theta = 2*pi / 2**j,\n",
    "                control_qubit = control,\n",
    "                target_qubit = target,\n",
    "            )\n",
    "    \n",
    "    # Swap the gates\n",
    "    for qubit in range(n//2):\n",
    "        circuit.swap(qubit, n-qubit-1)"
   ]
  },
  {
   "cell_type": "code",
   "execution_count": 43,
   "metadata": {},
   "outputs": [
    {
     "name": "stdout",
     "output_type": "stream",
     "text": [
      "        ┌───┐                                         ░ ┌─┐      \n",
      "   q_0: ┤ H ├─■────────■───────────────────────────X──░─┤M├──────\n",
      "        └───┘ │P(π/4)  │       ┌───┐               │  ░ └╥┘┌─┐   \n",
      "   q_1: ──────■────────┼───────┤ H ├─■─────────────┼──░──╫─┤M├───\n",
      "                       │P(π/8) └───┘ │P(π/8) ┌───┐ │  ░  ║ └╥┘┌─┐\n",
      "   q_2: ───────────────■─────────────■───────┤ H ├─X──░──╫──╫─┤M├\n",
      "                                             └───┘    ░  ║  ║ └╥┘\n",
      "meas: 3/═════════════════════════════════════════════════╩══╩══╩═\n",
      "                                                         0  1  2 \n",
      "{'010': 125, '000': 128, '111': 126, '011': 107, '101': 122, '100': 145, '110': 144, '001': 127}\n",
      "        ┌───┐                                         ░ ┌─┐      \n",
      "   q_0: ┤ H ├─■────────■───────────────────────────X──░─┤M├──────\n",
      "        └───┘ │P(π/4)  │       ┌───┐               │  ░ └╥┘┌─┐   \n",
      "   q_1: ──────■────────┼───────┤ H ├─■─────────────┼──░──╫─┤M├───\n",
      "        ┌───┐          │P(π/8) └───┘ │P(π/8) ┌───┐ │  ░  ║ └╥┘┌─┐\n",
      "   q_2: ┤ X ├──────────■─────────────■───────┤ H ├─X──░──╫──╫─┤M├\n",
      "        └───┘                                └───┘    ░  ║  ║ └╥┘\n",
      "meas: 3/═════════════════════════════════════════════════╩══╩══╩═\n",
      "                                                         0  1  2 \n",
      "{'001': 127, '100': 143, '110': 117, '010': 137, '000': 124, '101': 141, '111': 118, '011': 117}\n",
      "        ┌───┐                                         ░ ┌─┐      \n",
      "   q_0: ┤ H ├─■────────■───────────────────────────X──░─┤M├──────\n",
      "        ├───┤ │P(π/4)  │       ┌───┐               │  ░ └╥┘┌─┐   \n",
      "   q_1: ┤ X ├─■────────┼───────┤ H ├─■─────────────┼──░──╫─┤M├───\n",
      "        └───┘          │P(π/8) └───┘ │P(π/8) ┌───┐ │  ░  ║ └╥┘┌─┐\n",
      "   q_2: ───────────────■─────────────■───────┤ H ├─X──░──╫──╫─┤M├\n",
      "                                             └───┘    ░  ║  ║ └╥┘\n",
      "meas: 3/═════════════════════════════════════════════════╩══╩══╩═\n",
      "                                                         0  1  2 \n",
      "{'011': 138, '111': 110, '100': 122, '001': 127, '110': 121, '101': 117, '000': 149, '010': 140}\n",
      "        ┌───┐                                         ░ ┌─┐      \n",
      "   q_0: ┤ H ├─■────────■───────────────────────────X──░─┤M├──────\n",
      "        ├───┤ │P(π/4)  │       ┌───┐               │  ░ └╥┘┌─┐   \n",
      "   q_1: ┤ X ├─■────────┼───────┤ H ├─■─────────────┼──░──╫─┤M├───\n",
      "        ├───┤          │P(π/8) └───┘ │P(π/8) ┌───┐ │  ░  ║ └╥┘┌─┐\n",
      "   q_2: ┤ X ├──────────■─────────────■───────┤ H ├─X──░──╫──╫─┤M├\n",
      "        └───┘                                └───┘    ░  ║  ║ └╥┘\n",
      "meas: 3/═════════════════════════════════════════════════╩══╩══╩═\n",
      "                                                         0  1  2 \n",
      "{'000': 122, '010': 121, '111': 126, '011': 143, '101': 130, '001': 128, '100': 127, '110': 127}\n",
      "        ┌───┐┌───┐                                         ░ ┌─┐      \n",
      "   q_0: ┤ X ├┤ H ├─■────────■───────────────────────────X──░─┤M├──────\n",
      "        └───┘└───┘ │P(π/4)  │       ┌───┐               │  ░ └╥┘┌─┐   \n",
      "   q_1: ───────────■────────┼───────┤ H ├─■─────────────┼──░──╫─┤M├───\n",
      "                            │P(π/8) └───┘ │P(π/8) ┌───┐ │  ░  ║ └╥┘┌─┐\n",
      "   q_2: ────────────────────■─────────────■───────┤ H ├─X──░──╫──╫─┤M├\n",
      "                                                  └───┘    ░  ║  ║ └╥┘\n",
      "meas: 3/══════════════════════════════════════════════════════╩══╩══╩═\n",
      "                                                              0  1  2 \n",
      "{'100': 139, '110': 134, '001': 122, '011': 103, '111': 136, '101': 114, '010': 154, '000': 122}\n",
      "        ┌───┐┌───┐                                         ░ ┌─┐      \n",
      "   q_0: ┤ X ├┤ H ├─■────────■───────────────────────────X──░─┤M├──────\n",
      "        └───┘└───┘ │P(π/4)  │       ┌───┐               │  ░ └╥┘┌─┐   \n",
      "   q_1: ───────────■────────┼───────┤ H ├─■─────────────┼──░──╫─┤M├───\n",
      "        ┌───┐               │P(π/8) └───┘ │P(π/8) ┌───┐ │  ░  ║ └╥┘┌─┐\n",
      "   q_2: ┤ X ├───────────────■─────────────■───────┤ H ├─X──░──╫──╫─┤M├\n",
      "        └───┘                                     └───┘    ░  ║  ║ └╥┘\n",
      "meas: 3/══════════════════════════════════════════════════════╩══╩══╩═\n",
      "                                                              0  1  2 \n",
      "{'101': 132, '011': 126, '111': 126, '110': 126, '100': 137, '001': 116, '000': 143, '010': 118}\n",
      "        ┌───┐┌───┐                                         ░ ┌─┐      \n",
      "   q_0: ┤ X ├┤ H ├─■────────■───────────────────────────X──░─┤M├──────\n",
      "        ├───┤└───┘ │P(π/4)  │       ┌───┐               │  ░ └╥┘┌─┐   \n",
      "   q_1: ┤ X ├──────■────────┼───────┤ H ├─■─────────────┼──░──╫─┤M├───\n",
      "        └───┘               │P(π/8) └───┘ │P(π/8) ┌───┐ │  ░  ║ └╥┘┌─┐\n",
      "   q_2: ────────────────────■─────────────■───────┤ H ├─X──░──╫──╫─┤M├\n",
      "                                                  └───┘    ░  ║  ║ └╥┘\n",
      "meas: 3/══════════════════════════════════════════════════════╩══╩══╩═\n",
      "                                                              0  1  2 \n",
      "{'011': 130, '111': 118, '001': 155, '110': 119, '100': 116, '010': 133, '000': 122, '101': 131}\n",
      "        ┌───┐┌───┐                                         ░ ┌─┐      \n",
      "   q_0: ┤ X ├┤ H ├─■────────■───────────────────────────X──░─┤M├──────\n",
      "        ├───┤└───┘ │P(π/4)  │       ┌───┐               │  ░ └╥┘┌─┐   \n",
      "   q_1: ┤ X ├──────■────────┼───────┤ H ├─■─────────────┼──░──╫─┤M├───\n",
      "        ├───┤               │P(π/8) └───┘ │P(π/8) ┌───┐ │  ░  ║ └╥┘┌─┐\n",
      "   q_2: ┤ X ├───────────────■─────────────■───────┤ H ├─X──░──╫──╫─┤M├\n",
      "        └───┘                                     └───┘    ░  ║  ║ └╥┘\n",
      "meas: 3/══════════════════════════════════════════════════════╩══╩══╩═\n",
      "                                                              0  1  2 \n",
      "{'101': 147, '100': 126, '110': 124, '001': 138, '111': 122, '011': 125, '010': 133, '000': 109}\n"
     ]
    }
   ],
   "source": [
    "from itertools import product\n",
    "from qiskit import transpile, assemble\n",
    "QUBIT_NUMBER = 3\n",
    "\n",
    "\n",
    "for digits in product((0, 1), repeat=3):\n",
    "    \n",
    "    # Create a QuantumCircuit\n",
    "    circuit = QuantumCircuit(QUBIT_NUMBER)\n",
    "    \n",
    "    #initialization\n",
    "    for index, value in enumerate(digits):\n",
    "        if value:\n",
    "            circuit.x(index)\n",
    "\n",
    "    #Call qft function\n",
    "    qft(QUBIT_NUMBER, circuit)\n",
    "    \n",
    "    # Measure the circuit\n",
    "    circuit.measure_all()\n",
    "\n",
    "    #Printing circuit\n",
    "    print(circuit.draw())\n",
    "\n",
    "    # Execute the circuit\n",
    "\n",
    "    # transpiled_circuit = transpile(circuit, qasm_simulator)\n",
    "    \n",
    "    counts = execute(circuit, qasm_simulator) \\\n",
    "        .result() \\\n",
    "        .get_counts()\n",
    "    \n",
    "    print(counts)"
   ]
  },
  {
   "cell_type": "markdown",
   "metadata": {},
   "source": [
    "<a href=\"D02_Quantum_Fourier_Transform_Solutions.ipynb#task8\">click for our solution</a>"
   ]
  },
  {
   "cell_type": "markdown",
   "metadata": {},
   "source": [
    "<h2>Inverse Quantum Fourier Transform </h2>"
   ]
  },
  {
   "cell_type": "markdown",
   "metadata": {},
   "source": [
    "Inverse Quantum Fourier Transform ($QFT^{\\dagger}$) is the transformation which satisfies $QFT\\cdot QFT^{\\dagger}=I$. It is defined exactly the same with the exponents having negative sign."
   ]
  },
  {
   "cell_type": "markdown",
   "metadata": {},
   "source": [
    "$$\n",
    " QFT^{\\dagger} \\ket{k}=\\frac{1}{\\sqrt{N}} \\sum_{l=0}^{N-1}e^{-\\frac{2\\pi i j k }{N}}\\ket{l}.\n",
    "$$"
   ]
  },
  {
   "cell_type": "markdown",
   "metadata": {},
   "source": [
    "To implement $QFT^{\\dagger}$, one should apply all the operations in reverse order to undo the circuit."
   ]
  },
  {
   "cell_type": "markdown",
   "metadata": {},
   "source": [
    "\n",
    "<h3>Task 9</h3> \n",
    "\n",
    "Implement the circuit which applies $QFT^{\\dagger}$ to any $n$-qubit system. Define a function named <i>iqft</i> which takes the number of qubits, the qubits and the circuit as its parameter. Simulate the circuit for different $n$ values. Apply both $QFT$ and $QFT^{\\dagger}$ and check whether the corresponding unitary matrix is the identity matrix. Write your function to a file so that you can use it later."
   ]
  },
  {
   "cell_type": "code",
   "execution_count": 51,
   "metadata": {},
   "outputs": [],
   "source": [
    "#%%writefile iqft.py\n",
    "import cirq\n",
    "from cirq.circuits import InsertStrategy\n",
    "from cirq import H, SWAP, CZPowGate\n",
    "\n",
    "def iqft(n,qubits,circuit):\n",
    "    \n",
    "    #Your code here\n",
    "    \n",
    "    \n",
    "    "
   ]
  },
  {
   "cell_type": "code",
   "execution_count": null,
   "metadata": {},
   "outputs": [],
   "source": [
    "n=4 #change n\n",
    "\n",
    "#Create circuit\n",
    "circuit = cirq.Circuit()\n",
    "\n",
    "#Create n qubits\n",
    "#\n",
    "\n",
    "#Call qft function \n",
    "\n",
    "\n",
    "#Call iqft function\n",
    "#\n",
    "\n",
    "#Printing circuit\n",
    "#\n",
    "\n",
    "#Simulating circuit\n",
    "#\n",
    "\n",
    "#Unitary matrix representation\n",
    "print(cirq.unitary(circuit))"
   ]
  },
  {
   "cell_type": "markdown",
   "metadata": {},
   "source": [
    "<a href=\"D02_Quantum_Fourier_Transform_Solutions.ipynb#task9\">click for our solution</a>"
   ]
  },
  {
   "cell_type": "markdown",
   "metadata": {},
   "source": [
    "<hr>"
   ]
  },
  {
   "cell_type": "markdown",
   "metadata": {},
   "source": [
    "<h2> Discussion on the number of gates </h2>"
   ]
  },
  {
   "cell_type": "markdown",
   "metadata": {},
   "source": [
    "For the first qubit, we apply a single Hadamard gate followed by $n-1$ controlled rotation gates, which makes $n$ gates in total.\n",
    "\n",
    "For the second qubit we apply a single Hadamard gate followed by $n-2$ controlled rotation gates, which makes $n-1$ gates in total.\n",
    "\n",
    "Overall, $n + (n-1) + \\cdots + 1 = \\frac{(n)(n+1)}{2}$ gates are required.\n",
    "\n",
    "Furthermore, $\\frac{n}{2}$ $SWAP$ gates are required, each of which can be implemented using three $CNOT$ gates.\n",
    "\n",
    "To sum up, $\\theta(n^2)$ gates are required for applying $QFT$ to an $n$-qubit system represented by a vector of size $N=2^n$.\n",
    "\n",
    "The best known classical algorithm for computing the Discrete Fourier Transform of $2^n$ entries, such as Fast Fourier Transform (FFT) requires $\\Theta(n2^n)$, equivalently $\\Theta(N \\log N)$ gates, which means that the classical algorithm requires exponentially many more operations to compute $DFT$ (Note that the obvious algorithm for computing $DFT$ requires ${2}^{2n}$ gates). An improved algorithm presented [here](https://ieeexplore.ieee.org/document/892139) provides a circuit for computing $QFT$ with $O(n \\log n)$ gates.\n",
    "\n",
    "Nevertheless, this does not mean that we can use $QFT$ directly to accelerate the classical computation process. There are two reasons for this: The first reason is that the amplitudes can not be accessed directly after applying $QFT$. The second reason is that we may not know how to efficiently prepare the input state to $QFT$. \n",
    "\n",
    "Next, we will see some applications of $QFT$."
   ]
  }
 ],
 "metadata": {
  "kernelspec": {
   "display_name": "Python 3 (ipykernel)",
   "language": "python",
   "name": "python3"
  },
  "language_info": {
   "codemirror_mode": {
    "name": "ipython",
    "version": 3
   },
   "file_extension": ".py",
   "mimetype": "text/x-python",
   "name": "python",
   "nbconvert_exporter": "python",
   "pygments_lexer": "ipython3",
   "version": "3.9.8"
  }
 },
 "nbformat": 4,
 "nbformat_minor": 4
}
