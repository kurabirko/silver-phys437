{
 "cells": [
  {
   "cell_type": "markdown",
   "metadata": {},
   "source": [
    "<table  align=\"left\" width=\"100%\"> <tr>\n",
    "        <td  style=\"background-color:#ffffff;\"><a href=\"https://qsoftware.lu.lv/index.php/qworld/\" target=\"_blank\"><img src=\"../images/qworld.jpg\" width=\"35%\" align=\"left\"></a></td>\n",
    "        <td  align=\"right\" style=\"background-color:#ffffff;vertical-align:bottom;horizontal-align:right\">\n",
    "            prepared by Özlem Salehi (<a href=\"http://qworld.lu.lv/index.php/qturkey/\" target=\"_blank\">QTurkey</a>)\n",
    "        </td>        \n",
    "</tr></table>"
   ]
  },
  {
   "cell_type": "markdown",
   "metadata": {},
   "source": [
    "<table width=\"100%\"><tr><td style=\"color:#bbbbbb;background-color:#ffffff;font-size:11px;font-style:italic;text-align:right;\">This cell contains some macros. If there is a problem with displaying mathematical formulas, please run this cell to load these macros. </td></tr></table>\n",
    "$ \\newcommand{\\bra}[1]{\\langle #1|} $\n",
    "$ \\newcommand{\\ket}[1]{|#1\\rangle} $\n",
    "$ \\newcommand{\\braket}[2]{\\langle #1|#2\\rangle} $\n",
    "$ \\newcommand{\\dot}[2]{ #1 \\cdot #2} $\n",
    "$ \\newcommand{\\biginner}[2]{\\left\\langle #1,#2\\right\\rangle} $\n",
    "$ \\newcommand{\\mymatrix}[2]{\\left( \\begin{array}{#1} #2\\end{array} \\right)} $\n",
    "$ \\newcommand{\\myvector}[1]{\\mymatrix{c}{#1}} $\n",
    "$ \\newcommand{\\myrvector}[1]{\\mymatrix{r}{#1}} $\n",
    "$ \\newcommand{\\mypar}[1]{\\left( #1 \\right)} $\n",
    "$ \\newcommand{\\mybigpar}[1]{ \\Big( #1 \\Big)} $\n",
    "$ \\newcommand{\\sqrttwo}{\\frac{1}{\\sqrt{2}}} $\n",
    "$ \\newcommand{\\dsqrttwo}{\\dfrac{1}{\\sqrt{2}}} $\n",
    "$ \\newcommand{\\onehalf}{\\frac{1}{2}} $\n",
    "$ \\newcommand{\\donehalf}{\\dfrac{1}{2}} $\n",
    "$ \\newcommand{\\hadamard}{ \\mymatrix{rr}{ \\sqrttwo & \\sqrttwo \\\\ \\sqrttwo & -\\sqrttwo }} $\n",
    "$ \\newcommand{\\vzero}{\\myvector{1\\\\0}} $\n",
    "$ \\newcommand{\\vone}{\\myvector{0\\\\1}} $\n",
    "$ \\newcommand{\\stateplus}{\\myvector{ \\sqrttwo \\\\  \\sqrttwo } } $\n",
    "$ \\newcommand{\\stateminus}{ \\myrvector{ \\sqrttwo \\\\ -\\sqrttwo } } $\n",
    "$ \\newcommand{\\myarray}[2]{ \\begin{array}{#1}#2\\end{array}} $\n",
    "$ \\newcommand{\\X}{ \\mymatrix{cc}{0 & 1 \\\\ 1 & 0}  } $\n",
    "$ \\newcommand{\\Z}{ \\mymatrix{rr}{1 & 0 \\\\ 0 & -1}  } $\n",
    "$ \\newcommand{\\Htwo}{ \\mymatrix{rrrr}{ \\frac{1}{2} & \\frac{1}{2} & \\frac{1}{2} & \\frac{1}{2} \\\\ \\frac{1}{2} & -\\frac{1}{2} & \\frac{1}{2} & -\\frac{1}{2} \\\\ \\frac{1}{2} & \\frac{1}{2} & -\\frac{1}{2} & -\\frac{1}{2} \\\\ \\frac{1}{2} & -\\frac{1}{2} & -\\frac{1}{2} & \\frac{1}{2} } } $\n",
    "$ \\newcommand{\\CNOT}{ \\mymatrix{cccc}{1 & 0 & 0 & 0 \\\\ 0 & 1 & 0 & 0 \\\\ 0 & 0 & 0 & 1 \\\\ 0 & 0 & 1 & 0} } $\n",
    "$ \\newcommand{\\norm}[1]{ \\left\\lVert #1 \\right\\rVert } $\n",
    "$ \\newcommand{\\pstate}[1]{ \\lceil \\mspace{-1mu} #1 \\mspace{-1.5mu} \\rfloor } $"
   ]
  },
  {
   "cell_type": "markdown",
   "metadata": {},
   "source": [
    "<h1> <font color=\"blue\"> Solutions for </font> Phase Estimation</h1>"
   ]
  },
  {
   "cell_type": "markdown",
   "metadata": {},
   "source": [
    "<h3>Task 1 (on paper)</h3>\n",
    "<a id=\"task1\"></a>\n",
    "\n",
    "Show that $\\ket{-}$ and $\\ket{+}$ are eigenvectors for the $X$ operator with eigenvalues -1 and 1 respectively."
   ]
  },
  {
   "cell_type": "markdown",
   "metadata": {},
   "source": [
    "<h3>Solution </h3>"
   ]
  },
  {
   "cell_type": "markdown",
   "metadata": {},
   "source": [
    "\n",
    "\n",
    "\\begin{align*}\n",
    "X \\ket{-} = X \\frac {\\ket{0} - \\ket{1}} {\\sqrt{2}}\n",
    "& =  \\frac {\\ket{1} - \\ket{0}} {\\sqrt{2}}\\\\\n",
    "& = -\\frac {\\ket{0} - \\ket{1}} {\\sqrt{2}}\\\\\n",
    "& = -\\ket{-}\n",
    "\\end{align*}\n",
    "\n",
    "\n",
    "\\begin{align*}\n",
    "X \\ket{+} = X \\frac {\\ket{0} + \\ket{1}} {\\sqrt{2}}\n",
    "& =  \\frac {\\ket{1} + \\ket{0}} {\\sqrt{2}}\\\\\n",
    "& = \\frac {\\ket{0} + \\ket{1}} {\\sqrt{2}}\\\\\n",
    "& = \\ket{+}\n",
    "\\end{align*}\n",
    "\n",
    "Hence $ \\ket{-}$ and $\\ket{+}$ are eigenvectors of $ X $ operator with the eigenvalues -1 and 1 respectively."
   ]
  },
  {
   "cell_type": "markdown",
   "metadata": {},
   "source": [
    "<h3>Task 2 (on paper)</h3>\n",
    "<a id=\"task2\"></a>\n",
    "\n",
    "Consider the following quantum state where $ x=0 $ or $ 1 $. How can you find out the value of $x$ by applying a single operator?\n",
    "\n",
    "$$ \n",
    "\\frac {\\ket{0} + (-1)^x \\ket{1}} {\\sqrt{2}}\n",
    "$$\n"
   ]
  },
  {
   "cell_type": "markdown",
   "metadata": {},
   "source": [
    "<h3>Solution </h3>"
   ]
  },
  {
   "cell_type": "markdown",
   "metadata": {},
   "source": [
    "If our aim is to find out $ x $, then applying a Hadamard gate we can determine whether $ x=0 $ or $ 1 $ depending on the outcome. If the outcome is $ \\ket{0} $, then $ x=0 $ and if the outcome is $ \\ket{1} $, then $ x=1 $.\n",
    "<hr>"
   ]
  },
  {
   "cell_type": "code",
   "execution_count": null,
   "metadata": {},
   "outputs": [],
   "source": [
    "from qiskit import QuantumCircuit, QuantumRegister, ClassicalRegister, Aer, execute\n",
    "from qiskit.circuit.library import PhaseGate\n",
    "from math import pi\n",
    "\n",
    "qasm_simulator = Aer.get_backend('qasm_simulator')"
   ]
  },
  {
   "cell_type": "markdown",
   "metadata": {
    "tags": []
   },
   "source": [
    "### Task 3\n",
    "Consider the unitary operator $U$ with eigenvector $\\ket{1}$ and eigenvalue $e^{2\\pi i \\phi}$ where $\\phi = \\frac{5}{16}$. $CU$ operator can be realized via a `PhaseGate` gate. Pick $t=4$ and implement the phase estimation circuit to estimate $\\phi$. Write a function named <i>qpe</i> which takes as parameters <i>t</i>, <i>control</i> qubits, <i>target</i> qubits, <i>circuit</i> and the operator <i>CU</i>.\n",
    "\n",
    "Note that you will get an exact result since $t=4$ is precise enough."
   ]
  },
  {
   "cell_type": "markdown",
   "metadata": {},
   "source": [
    "_Remarks:_\n",
    "\n",
    "- You can apply arithmetical operations to gates, such as taking powers or inverses. \n",
    "- To apply $QFT^{\\dagger}$, you can use the function `iQFT` from our `silver` module. Create a `iQFT` operator by providing the number of qubits, and apply it like any other gate provided by `qiskit.circuit.library`.\n",
    "- To create a controlled $U^{2^k}$ gate from any $U$ in `qiskit.circuit.library`, you can use the `CUPowFactory` function in our module.\n",
    "\n",
    "\n",
    "<center><pre>\n",
    "              ──────■──────\n",
    " ┌───┐        ┌────┴────┐\n",
    " ─┤ U ├─  to  ─┤ U^(2^k) ├─\n",
    " └───┘        └─────────┘\n",
    "</pre></center>\n"
   ]
  },
  {
   "cell_type": "code",
   "execution_count": null,
   "metadata": {},
   "outputs": [],
   "source": [
    "from silver import CUPowFactory\n",
    "\n",
    "CPhasePowGate = CUPowFactory(PhaseGate(2*pi*5/16)) # Do not forget the 2π factor"
   ]
  },
  {
   "cell_type": "markdown",
   "metadata": {},
   "source": [
    "<h3>Solution </h3>"
   ]
  },
  {
   "cell_type": "code",
   "execution_count": null,
   "metadata": {},
   "outputs": [],
   "source": [
    "from silver import CUPowFactory\n",
    "\n",
    "CPhasePowGate = CUPowFactory(PhaseGate(2*pi*5/16)) # Do not forget the 2π factor"
   ]
  },
  {
   "cell_type": "code",
   "execution_count": null,
   "metadata": {},
   "outputs": [],
   "source": [
    "from silver import iQFT\n",
    "def qpe(circuit, CU, control, target):\n",
    "\n",
    "    t = control.size\n",
    "\n",
    "    # Go over each control qubit in the reversed\n",
    "    # order\n",
    "    for i, c in enumerate(reversed(control)):\n",
    "        # Apply Hadamard\n",
    "        circuit.h(c)\n",
    "        # Apply \n",
    "        circuit.append(CU(i) ,[c, *target])\n",
    "        \n",
    "        \n",
    "    #Apply inverse QFT to the control qubits\n",
    "    iqft_gate = iQFT(len(control))\n",
    "    circuit.append(iqft_gate, control)"
   ]
  },
  {
   "cell_type": "code",
   "execution_count": null,
   "metadata": {},
   "outputs": [],
   "source": [
    "CONTROL_QUBIT_NUM = 4\n",
    "\n",
    "# Create a cirucit\n",
    "circuit = QuantumCircuit(\n",
    "    control_register   := QuantumRegister(CONTROL_QUBIT_NUM),\n",
    "    target_register    := QuantumRegister(1),\n",
    "    classical_register := ClassicalRegister(CONTROL_QUBIT_NUM),\n",
    ")\n",
    "\n",
    "# Set target qubit to store eigenvector\n",
    "for q in target_register:\n",
    "    circuit.x(q)\n",
    "\n",
    "circuit.barrier()\n",
    "\n",
    "# Apply QPE\n",
    "qpe(circuit, CPhasePowGate, control_register, target_register)\n",
    "\n",
    "# Mesaure and print the results\n",
    "circuit.measure(control_register, classical_register)\n",
    "\n",
    "counts = execute(circuit.reverse_bits(), qasm_simulator) \\\n",
    "    .result() \\\n",
    "    .get_counts()\n",
    "\n",
    "for i, j in counts.items():\n",
    "    print(f'φ = {int(i,2)}/{2**CONTROL_QUBIT_NUM} observerd {j} times')\n",
    "    \n",
    "# Select the maximum outcome as the current estimation\n",
    "max_key = max(counts.keys(), key=lambda key: counts[key])\n",
    "print(f'Estimation is {int(max_key, 2) / 2**CONTROL_QUBIT_NUM}')"
   ]
  },
  {
   "cell_type": "markdown",
   "metadata": {},
   "source": [
    "<a id=\"task4\"></a>\n",
    "<h3>Task 4</h3>\n",
    "\n",
    "Try Task 3 this time by setting $t=3$. What do you expect to see?"
   ]
  },
  {
   "cell_type": "markdown",
   "metadata": {},
   "source": [
    "<h3>Solution </h3>"
   ]
  },
  {
   "cell_type": "code",
   "execution_count": null,
   "metadata": {
    "tags": []
   },
   "outputs": [],
   "source": [
    "CONTROL_QUBIT_NUM = 3\n",
    "\n",
    "# Create a cirucit\n",
    "circuit = QuantumCircuit(\n",
    "    control_register   := QuantumRegister(CONTROL_QUBIT_NUM),\n",
    "    target_register    := QuantumRegister(1),\n",
    "    classical_register := ClassicalRegister(CONTROL_QUBIT_NUM),\n",
    ")\n",
    "\n",
    "# Set target qubit to store eigenvector\n",
    "for q in target_register:\n",
    "    circuit.x(q)\n",
    "\n",
    "circuit.barrier()\n",
    "\n",
    "# Apply QPE\n",
    "qpe(circuit, CPhasePowGate, control_register, target_register)\n",
    "\n",
    "# Mesaure and print the results\n",
    "circuit.measure(control_register, classical_register)\n",
    "\n",
    "counts = execute(circuit.reverse_bits(), qasm_simulator) \\\n",
    "    .result() \\\n",
    "    .get_counts()\n",
    "\n",
    "for i, j in counts.items():\n",
    "    print(f'{int(i,2)} observerd {j} times')\n",
    "    \n",
    "# Select the maximum outcome as the current estimation\n",
    "max_key = max(counts.keys(), key=lambda key: counts[key])\n",
    "print(f'\\nEstimation is {int(max_key, 2) / 2**CONTROL_QUBIT_NUM}')"
   ]
  },
  {
   "cell_type": "markdown",
   "metadata": {},
   "source": [
    "<a id=\"task5\"></a>\n",
    "<h3>Task 5</h3>\n",
    "\n",
    "Try Task 3 this time by setting $\\phi=0.685$. Calculate and print the estimates for different $t$ values between 1 and 10. "
   ]
  },
  {
   "cell_type": "markdown",
   "metadata": {},
   "source": [
    "<h3>Solution </h3>"
   ]
  },
  {
   "cell_type": "code",
   "execution_count": null,
   "metadata": {},
   "outputs": [],
   "source": [
    "from silver import CUPowFactory\n",
    "from qiskit.circuit.library import PhaseGate\n",
    "\n",
    "# Create CUPow operator with phase 0.685\n",
    "CPhasePowGate = CUPowFactory(PhaseGate(2*pi*0.685)) # Do not forget the 2π factor"
   ]
  },
  {
   "cell_type": "code",
   "execution_count": null,
   "metadata": {
    "tags": []
   },
   "outputs": [],
   "source": [
    "for t in range (1,10):\n",
    "    \n",
    "    # Create a cirucit\n",
    "    circuit = QuantumCircuit(\n",
    "        control_register   := QuantumRegister(t),\n",
    "        target_register    := QuantumRegister(1),\n",
    "        classical_register := ClassicalRegister(t),\n",
    "    )\n",
    "    \n",
    "    # Set target qubit to store eigenvector\n",
    "    for q in target_register:\n",
    "        circuit.x(q)\n",
    "    \n",
    "    circuit.barrier()\n",
    "    \n",
    "    # Apply QPE\n",
    "    qpe(circuit, CPhasePowGate, control_register, target_register)\n",
    "    \n",
    "    # Mesaure and print the results\n",
    "    circuit.measure(control_register, classical_register)\n",
    "    \n",
    "    counts = execute(circuit.reverse_bits(), qasm_simulator) \\\n",
    "        .result() \\\n",
    "        .get_counts()\n",
    "    \n",
    "    # Select the maximum outcome as the current estimation\n",
    "    max_key = max(counts.keys(), key=lambda key: counts[key])\n",
    "    print(f'Estimation for t={t} is {int(max_key, 2)/2**t}')"
   ]
  },
  {
   "cell_type": "markdown",
   "metadata": {},
   "source": [
    "<a id=\"task6\"></a>\n",
    "<h3>Task 6</h3>\n",
    "\n",
    "You are given an operator $U$ with eigenvector $\\ket{11}$ and eigenvalue $\\phi$, which is this time unknown to you. Use phase estimation to estimate $\\phi$ by trying different $t$ values. \n",
    "\n",
    "Run the following cell to load operator $U$"
   ]
  },
  {
   "cell_type": "code",
   "execution_count": null,
   "metadata": {},
   "outputs": [],
   "source": [
    "from silver import CUPowFactory\n",
    "from silver.phaseEstimation import U\n",
    "\n",
    "misteryGate = CUPowFactory(U)"
   ]
  },
  {
   "cell_type": "markdown",
   "metadata": {},
   "source": [
    "<h3>Solution </h3>"
   ]
  },
  {
   "cell_type": "code",
   "execution_count": null,
   "metadata": {},
   "outputs": [],
   "source": [
    "for t in range (1,10):\n",
    "    \n",
    "    # Create a cirucit\n",
    "    circuit = QuantumCircuit(\n",
    "        control_register   := QuantumRegister(t),\n",
    "        target_register    := QuantumRegister(2),\n",
    "        classical_register := ClassicalRegister(t),\n",
    "    )\n",
    "    \n",
    "    # Set target qubit to store eigenvector\n",
    "    for q in target_register:\n",
    "        circuit.x(q)\n",
    "    \n",
    "    circuit.barrier()\n",
    "    \n",
    "    # Apply QPE\n",
    "    qpe(circuit, misteryGate, control_register, target_register)\n",
    "    \n",
    "    # Mesaure and print the results\n",
    "    circuit.measure(control_register, classical_register)\n",
    "    \n",
    "    counts = execute(circuit.reverse_bits(), qasm_simulator) \\\n",
    "        .result() \\\n",
    "        .get_counts()\n",
    "    \n",
    "    max_key = max(counts.keys(), key=lambda key: counts[key])\n",
    "    print(f'Estimation for t={t} is {int(max_key, 2)/2**t}')"
   ]
  },
  {
   "cell_type": "code",
   "execution_count": null,
   "metadata": {},
   "outputs": [],
   "source": []
  }
 ],
 "metadata": {
  "kernelspec": {
   "display_name": "Python 3 (ipykernel)",
   "language": "python",
   "name": "python3"
  },
  "language_info": {
   "codemirror_mode": {
    "name": "ipython",
    "version": 3
   },
   "file_extension": ".py",
   "mimetype": "text/x-python",
   "name": "python",
   "nbconvert_exporter": "python",
   "pygments_lexer": "ipython3",
   "version": "3.9.8"
  }
 },
 "nbformat": 4,
 "nbformat_minor": 4
}
